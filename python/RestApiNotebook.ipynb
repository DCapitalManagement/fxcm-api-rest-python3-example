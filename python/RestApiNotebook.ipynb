{
 "cells": [
  {
   "cell_type": "code",
   "execution_count": null,
   "metadata": {
    "collapsed": false
   },
   "outputs": [],
   "source": [
    "import json\n",
    "from importlib import reload\n",
    "import fxcm_rest_api\n",
    "\n",
    "result = reload(fxcm_rest_api)"
   ]
  },
  {
   "cell_type": "code",
   "execution_count": null,
   "metadata": {
    "collapsed": false
   },
   "outputs": [],
   "source": [
    "trader = fxcm_rest_api.Trader(your_user, yourr_passwd, your_env) # not using token yet\n",
    "trader.debug_level = \"INFO\"\n",
    "trader.login()"
   ]
  },
  {
   "cell_type": "code",
   "execution_count": null,
   "metadata": {
    "collapsed": false
   },
   "outputs": [],
   "source": [
    "trader.close_trade()"
   ]
  },
  {
   "cell_type": "code",
   "execution_count": null,
   "metadata": {
    "collapsed": false
   },
   "outputs": [],
   "source": [
    "trader.socketIO._engineIO_session.id"
   ]
  },
  {
   "cell_type": "code",
   "execution_count": null,
   "metadata": {
    "collapsed": false
   },
   "outputs": [],
   "source": [
    "trader.accounts"
   ]
  },
  {
   "cell_type": "code",
   "execution_count": null,
   "metadata": {
    "collapsed": false
   },
   "outputs": [],
   "source": [
    "trader.properties"
   ]
  },
  {
   "cell_type": "code",
   "execution_count": null,
   "metadata": {
    "collapsed": false
   },
   "outputs": [],
   "source": [
    "trader.account_id"
   ]
  },
  {
   "cell_type": "code",
   "execution_count": null,
   "metadata": {
    "collapsed": true
   },
   "outputs": [],
   "source": [
    "def show(msg):\n",
    "    '''\n",
    "    Sample price handler. If on_price_update is registered for a symbol,\n",
    "    it will update the symbol's values (stored in a symbol hash) with\n",
    "    that price update.symbol hash.\n",
    "\n",
    "    :return: none\n",
    "    '''\n",
    "    try:\n",
    "        md = json.loads(msg)\n",
    "        symbol = md[\"Symbol\"]\n",
    "        t = trader\n",
    "        si = trader.symbol_info.get(symbol, {})\n",
    "        p_up = dict(symbol_info=t.symbol_info[symbol], parent=t)\n",
    "        t.symbols[symbol] = t.symbols.get(symbol, fxcm_rest_api\n",
    "                                          .PriceUpdate(p_up,\n",
    "                                                       symbol_info=si))\n",
    "        trader.symbols[symbol].bid, trader.symbols[symbol].ask,\\\n",
    "            trader.symbols[symbol].high,\\\n",
    "            trader.symbols[symbol].low = md['Rates']\n",
    "        trader.symbols[symbol].updated = md['Updated']\n",
    "        print(t.symbols[symbol])\n",
    "    except Exception as e:\n",
    "        trader.logger.error(\"Can't handle price update: \" + str(e))\n",
    "\n",
    "# trader = fx"
   ]
  },
  {
   "cell_type": "code",
   "execution_count": null,
   "metadata": {
    "collapsed": false,
    "scrolled": true
   },
   "outputs": [],
   "source": [
    "#trader.unsubscribe_symbol(\"EUR/USD\")\n",
    "trader.subscribe_symbol(\"EUR/USD\", handler=show)"
   ]
  },
  {
   "cell_type": "code",
   "execution_count": null,
   "metadata": {
    "collapsed": false
   },
   "outputs": [],
   "source": [
    "trader.unsubscribe_symbol(\"EUR/USD\")"
   ]
  },
  {
   "cell_type": "code",
   "execution_count": null,
   "metadata": {
    "collapsed": false
   },
   "outputs": [],
   "source": [
    "result = trader.subscribe_symbol(\"GBP/JPY\")\n",
    "print(result)\n",
    "print(trader.subscriptions)"
   ]
  },
  {
   "cell_type": "code",
   "execution_count": null,
   "metadata": {
    "collapsed": false
   },
   "outputs": [],
   "source": [
    "print(trader.symbols[\"GBP/JPY\"])\n",
    "print(trader.symbols[\"GBP/JPY\"].bid)\n",
    "print(trader.symbols[\"GBP/JPY\"].ask)"
   ]
  },
  {
   "cell_type": "code",
   "execution_count": null,
   "metadata": {
    "collapsed": false
   },
   "outputs": [],
   "source": [
    "print(trader.symbols['GBP/JPY'].parent)"
   ]
  },
  {
   "cell_type": "code",
   "execution_count": null,
   "metadata": {
    "collapsed": true
   },
   "outputs": [],
   "source": [
    "import plotly.plotly as py\n",
    "import plotly.graph_objs as go\n",
    "import numpy\n",
    "import pandas_datareader.data as web\n",
    "from datetime import datetime"
   ]
  },
  {
   "cell_type": "code",
   "execution_count": null,
   "metadata": {
    "collapsed": false
   },
   "outputs": [],
   "source": [
    "cd = trader.candles_as_dict(\"EUR/USD\", \"H1\", 10)['candles']\n",
    "for k in cd:\n",
    "    print(\"{0}\".format(k))"
   ]
  },
  {
   "cell_type": "code",
   "execution_count": null,
   "metadata": {
    "collapsed": false
   },
   "outputs": [],
   "source": [
    "a = numpy.array(cd['candles'])\n",
    "trace = go.Candlestick(x= [datetime.fromtimestamp(int(t)) for t in a[:,0]], \n",
    "                       open=a[:,1], high=a[:,3], low=a[:,4], close=a[:,2])\n",
    "data = [trace]\n",
    "py.iplot(data, filename='candlestick_datetime')"
   ]
  },
  {
   "cell_type": "code",
   "execution_count": null,
   "metadata": {
    "collapsed": false
   },
   "outputs": [],
   "source": [
    "for x in range(5):\n",
    "    print trace['open'][x], trace['close'][x]"
   ]
  },
  {
   "cell_type": "raw",
   "metadata": {
    "collapsed": false
   },
   "source": [
    "trace"
   ]
  },
  {
   "cell_type": "code",
   "execution_count": null,
   "metadata": {
    "collapsed": false
   },
   "outputs": [],
   "source": [
    "trader.open_trade(trader.account_id, \"USD/JPY\", True, 1, at_market=1, time_in_force=\"FOK\", order_type=\"MarketRange\")"
   ]
  }
 ],
 "metadata": {
  "kernelspec": {
   "display_name": "Python 3",
   "language": "python",
   "name": "python3"
  },
  "language_info": {
   "codemirror_mode": {
    "name": "ipython",
    "version": 3
   },
   "file_extension": ".py",
   "mimetype": "text/x-python",
   "name": "python",
   "nbconvert_exporter": "python",
   "pygments_lexer": "ipython3",
   "version": "3.6.0"
  }
 },
 "nbformat": 4,
 "nbformat_minor": 2
}
