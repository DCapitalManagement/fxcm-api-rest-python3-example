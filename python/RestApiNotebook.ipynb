{
 "cells": [
  {
   "cell_type": "code",
   "execution_count": 80,
   "metadata": {},
   "outputs": [],
   "source": [
    "import fxcm_rest_api\n",
    "result = reload(fxcm_rest_api)"
   ]
  },
  {
   "cell_type": "code",
   "execution_count": 81,
   "metadata": {},
   "outputs": [],
   "source": [
    "trader = fxcm_rest_api.Trader('D25607976', '2956', 'prod')\n",
    "result = trader.login()"
   ]
  },
  {
   "cell_type": "code",
   "execution_count": 3,
   "metadata": {},
   "outputs": [],
   "source": [
    "trader.accounts.keys()\n",
    "trader.account = trader.accounts.keys()[1]"
   ]
  },
  {
   "cell_type": "code",
   "execution_count": 83,
   "metadata": {},
   "outputs": [],
   "source": [
    "result = trader.subscribe_symbol(\"EUR/USD\")"
   ]
  },
  {
   "cell_type": "code",
   "execution_count": 5,
   "metadata": {},
   "outputs": [
    {
     "data": {
      "text/plain": [
       "1.18899"
      ]
     },
     "execution_count": 5,
     "metadata": {},
     "output_type": "execute_result"
    }
   ],
   "source": [
    "trader.symbols['EUR/USD'].bid"
   ]
  },
  {
   "cell_type": "code",
   "execution_count": 124,
   "metadata": {},
   "outputs": [],
   "source": [
    "trader.symbols['EUR/USD'].unsubscribe()"
   ]
  },
  {
   "cell_type": "code",
   "execution_count": 89,
   "metadata": {},
   "outputs": [],
   "source": [
    "import plotly.plotly as py\n",
    "import plotly.graph_objs as go\n",
    "import numpy\n",
    "import pandas_datareader.data as web\n",
    "from datetime import datetime"
   ]
  },
  {
   "cell_type": "code",
   "execution_count": 163,
   "metadata": {},
   "outputs": [],
   "source": [
    "cd = trader.get_candles(\"EUR/USD\", \"H1\", 10, datetime_fmt=\"%Y/%m/%d %H:%M:%S:%f\")"
   ]
  },
  {
   "cell_type": "code",
   "execution_count": 164,
   "metadata": {},
   "outputs": [
    {
     "name": "stdout",
     "output_type": "stream",
     "text": [
      "High five! You successfuly sent some data to your account on plotly. View your plot in your browser at https://plot.ly/~jarius/0 or inside your plot.ly account where it is named 'candlestick_datetime'\n"
     ]
    },
    {
     "data": {
      "text/html": [
       "<iframe id=\"igraph\" scrolling=\"no\" style=\"border:none;\" seamless=\"seamless\" src=\"https://plot.ly/~jarius/0.embed\" height=\"525px\" width=\"100%\"></iframe>"
      ],
      "text/plain": [
       "<plotly.tools.PlotlyDisplay object>"
      ]
     },
     "execution_count": 164,
     "metadata": {},
     "output_type": "execute_result"
    }
   ],
   "source": [
    "a = numpy.array(cd['candles'])\n",
    "trace = go.Candlestick(x= [datetime.fromtimestamp(int(t)) for t in a[:,0]], \n",
    "                       open=a[:,1], high=a[:,3], low=a[:,4], close=a[:,2])\n",
    "data = [trace]\n",
    "py.iplot(data, filename='candlestick_datetime')"
   ]
  },
  {
   "cell_type": "code",
   "execution_count": 165,
   "metadata": {},
   "outputs": [
    {
     "name": "stdout",
     "output_type": "stream",
     "text": [
      "1.18845 1.19058\n",
      "1.19058 1.19047\n",
      "1.19047 1.18955\n",
      "1.18955 1.19014\n",
      "1.18955 1.19014\n"
     ]
    }
   ],
   "source": [
    "for x in range(5):\n",
    "    print trace['open'][x], trace['close'][x]"
   ]
  },
  {
   "cell_type": "code",
   "execution_count": 152,
   "metadata": {},
   "outputs": [
    {
     "data": {
      "text/plain": [
       "{'close': array(['1.1892', '1.18921', '1.18925', '1.18925', '1.1883'],\n",
       "       dtype='|S32'),\n",
       " 'high': array(['1.19027', '1.19027', '1.19091', '1.19091', '1.18982'],\n",
       "       dtype='|S32'),\n",
       " 'low': array(['1.18778', '1.18778', '1.18372', '1.18372', '1.18683'],\n",
       "       dtype='|S32'),\n",
       " 'open': array(['1.19013', '1.19013', '1.1892', '1.18921', '1.18925'],\n",
       "       dtype='|S32'),\n",
       " 'type': 'candlestick',\n",
       " 'x': [datetime.datetime(2017, 9, 14, 20, 0),\n",
       "  datetime.datetime(2017, 9, 14, 20, 0),\n",
       "  datetime.datetime(2017, 9, 14, 21, 0),\n",
       "  datetime.datetime(2017, 9, 14, 21, 0),\n",
       "  datetime.datetime(2017, 9, 14, 22, 0)]}"
      ]
     },
     "execution_count": 152,
     "metadata": {},
     "output_type": "execute_result"
    }
   ],
   "source": [
    "trace"
   ]
  },
  {
   "cell_type": "code",
   "execution_count": 166,
   "metadata": {},
   "outputs": [
    {
     "name": "stdout",
     "output_type": "stream",
     "text": [
      "['1505372400' '1505376000' '1505379600' '1505383200' '1505383200'\n",
      " '1505386800' '1505386800' '1505390400' '1505390400' '1505394000']\n",
      "1505372400 2017/09/14 16:00:00:000000\n",
      "1505376000 2017/09/14 17:00:00:000000\n",
      "1505379600 2017/09/14 18:00:00:000000\n",
      "1505383200 2017/09/14 19:00:00:000000\n",
      "1505383200 2017/09/14 19:00:00:000000\n",
      "1505386800 2017/09/14 20:00:00:000000\n",
      "1505386800 2017/09/14 20:00:00:000000\n",
      "1505390400 2017/09/14 21:00:00:000000\n",
      "1505390400 2017/09/14 21:00:00:000000\n",
      "1505394000 2017/09/14 22:00:00:000000\n"
     ]
    },
    {
     "name": "stderr",
     "output_type": "stream",
     "text": [
      "WARNING:socketIO-client:api.fxcm.com:443/socket.io [connection error] recv disconnected (Connection is already closed.)\n",
      "WARNING:socketIO-client:api.fxcm.com:443/socket.io [connection error] recv disconnected (Connection is already closed.)\n",
      "WARNING:socketIO-client:api.fxcm.com:443/socket.io [engine.io waiting for connection] ('Connection aborted.', BadStatusLine(\"''\",))\n"
     ]
    }
   ],
   "source": [
    " [datetime.fromtimestamp(int(t)) for t in a[:,0]]\n",
    "print a[:,0]\n",
    "for candle in cd['candles']:\n",
    "    print candle[0], candle[10]"
   ]
  }
 ],
 "metadata": {
  "kernelspec": {
   "display_name": "Python 2",
   "language": "python",
   "name": "python2"
  },
  "language_info": {
   "codemirror_mode": {
    "name": "ipython",
    "version": 2
   },
   "file_extension": ".py",
   "mimetype": "text/x-python",
   "name": "python",
   "nbconvert_exporter": "python",
   "pygments_lexer": "ipython2",
   "version": "2.7.12"
  }
 },
 "nbformat": 4,
 "nbformat_minor": 2
}
