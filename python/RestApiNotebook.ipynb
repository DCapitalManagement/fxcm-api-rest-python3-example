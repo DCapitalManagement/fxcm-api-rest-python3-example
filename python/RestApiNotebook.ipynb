{
 "cells": [
  {
   "cell_type": "code",
   "execution_count": 412,
   "metadata": {},
   "outputs": [],
   "source": [
    "trader.logout()"
   ]
  },
  {
   "cell_type": "code",
   "execution_count": 413,
   "metadata": {},
   "outputs": [],
   "source": [
    "import fxcm_rest_api\n",
    "\n",
    "result = reload(fxcm_rest_api)"
   ]
  },
  {
   "cell_type": "code",
   "execution_count": 414,
   "metadata": {},
   "outputs": [],
   "source": [
    "trader = fxcm_rest_api.Trader('D25607976', '2956', 'prod')\n",
    "#trader.debug_level = \"INFO\"\n",
    "result = trader.login()"
   ]
  },
  {
   "cell_type": "code",
   "execution_count": 177,
   "metadata": {},
   "outputs": [],
   "source": [
    "trader.accounts.keys()\n",
    "try:\n",
    "    trader.pop('')\n",
    "except Exception:\n",
    "    pass\n",
    "trader.account = trader.accounts.keys()[0]"
   ]
  },
  {
   "cell_type": "code",
   "execution_count": 425,
   "metadata": {},
   "outputs": [
    {
     "data": {
      "text/plain": [
       "[{u'name': u'BASE_CRNCY', u't': 8, u'value': u'GBP'},\n",
       " {u'name': u'BASE_CRNCY_PRECISION', u't': 8, u'value': u'2'},\n",
       " {u'name': u'BASE_CRNCY_SYMBOL', u't': 8, u'value': u'\\xa3'},\n",
       " {u'name': u'BASE_TIME_ZONE', u't': 8, u'value': u'Europe/London'},\n",
       " {u'name': u'BASE_UNIT_SIZE', u't': 8, u'value': u'10000'},\n",
       " {u'name': u'CHART_TIME_UTC', u't': 8, u'value': u'SERVER'},\n",
       " {u'name': u'CHART_TIME_ZONE', u't': 8, u'value': u'Europe/London'},\n",
       " {u'name': u'COMMISSIONED_UI_ENABLED', u't': 8, u'value': u'Y'},\n",
       " {u'name': u'COND_DIST', u't': 8, u'value': u'0.1'},\n",
       " {u'name': u'COND_DIST_ENTRY', u't': 8, u'value': u'0.1'},\n",
       " {u'name': u'CONNECTION_NAME', u't': 8, u'value': u'GBDEMO'},\n",
       " {u'name': u'CRM_CATEGORY', u't': 8, u'value': u'FXCM_UK'},\n",
       " {u'name': u'DATABASE_TYPE', u't': 8, u'value': u'CFD'},\n",
       " {u'name': u'DB_VERSION', u't': 8, u'value': u'Patch.6.1.20170811'},\n",
       " {u'name': u'END_TRADING_DAY', u't': 8, u'value': u'21:00:00'},\n",
       " {u'name': u'EXTERNAL_PG_MGN_INTEREST', u't': 8, u'value': u'CW'},\n",
       " {u'name': u'EXT_PRICE_TERMINAL', u't': 8, u'value': u'PDEMO_PRICES'},\n",
       " {u'name': u'FIRST_TICK_OPEN_PRICE_ENABLED', u't': 8, u'value': u'Y'},\n",
       " {u'name': u'FORCE_PASSWORD_CHANGE', u't': 8, u'value': u'N'},\n",
       " {u'name': u'FXMA_IB', u't': 8, u'value': u'FXCMUK'},\n",
       " {u'name': u'HCCACCTUsblMr3', u't': 8, u'value': u'Y'},\n",
       " {u'name': u'HCCACCTUsblMr3%', u't': 8, u'value': u'Y'},\n",
       " {u'name': u'HCCACCTUsdMr3', u't': 8, u'value': u'Y'},\n",
       " {u'name': u'HCCOFFERCHBid', u't': 8, u'value': u'Y'},\n",
       " {u'name': u'HCCOFFERChAsk', u't': 8, u'value': u'Y'},\n",
       " {u'name': u'HCCOFFERFID', u't': 8, u'value': u'Y'},\n",
       " {u'name': u'HCDACCTUsblMr3', u't': 8, u'value': u'Y'},\n",
       " {u'name': u'HCDACCTUsblMr3%', u't': 8, u'value': u'Y'},\n",
       " {u'name': u'HCDACCTUsdMr3', u't': 8, u'value': u'Y'},\n",
       " {u'name': u'HCTOFFERChAsk', u't': 8, u'value': u'Y'},\n",
       " {u'name': u'HCTOFFERChBid', u't': 8, u'value': u'Y'},\n",
       " {u'name': u'HCTOFFERFID', u't': 8, u'value': u'Y'},\n",
       " {u'name': u'LIMITSTOP_SUPPORT', u't': 8, u'value': u'Y'},\n",
       " {u'name': u'LINKS1',\n",
       "  u't': 8,\n",
       "  u'value': u'CHANGE,{F91D5C83-967E-4580-B45E-D969EE69CB71},11,,,,https://secure2.fxcorporate.com/fxtr/?ib=[FXMA_IB]'},\n",
       " {u'name': u'LINKS17',\n",
       "  u't': 8,\n",
       "  u'value': u'CHANGE,{0002D3B1-6AC0-4302-8193-A0FD6BBB92CE},1,,,,https://plus.fxcm.com/login/loginForm.jsp?ib=na'},\n",
       " {u'name': u'LINKS20',\n",
       "  u't': 8,\n",
       "  u'value': u'CHANGE,{C51F4903-B78A-4af0-9B70-9E5EF67B0010},1,,,,external-login-https://tsmap.fxcorporate.com/'},\n",
       " {u'name': u'LINKS26',\n",
       "  u't': 8,\n",
       "  u'value': u'CHANGE,{--F91D5C83-967E-4580-B45E-D969EE69CB71-INVALID},11,,,,https://secure4.fxcorporate.com/fxtr/?ib=FXCMUK_HELLAS&locale=el_GR,gre'},\n",
       " {u'name': u'LINKS27',\n",
       "  u't': 8,\n",
       "  u'value': u'HIDE,{67274F72-F432-4a81-A1D6-8703342A7D9D}'},\n",
       " {u'name': u'LOCALE', u't': 8, u'value': u'enu'},\n",
       " {u'name': u'LOCAL_PWD_SAVE', u't': 8, u'value': u'Y'},\n",
       " {u'name': u'MARKET_CLS_MSG',\n",
       "  u't': 8,\n",
       "  u'value': u'Market is closed. Trading operations are disabled.Not in use for now'},\n",
       " {u'name': u'MARKET_OPEN', u't': 8, u'value': u'Y'},\n",
       " {u'name': u'MAX_RATE_DIFF', u't': 8, u'value': u'15000'},\n",
       " {u'name': u'MAX_WRONG_PSWD', u't': 8, u'value': u'10'},\n",
       " {u'name': u'MKT_SUM_REFRESH_RATE', u't': 8, u'value': u'60'},\n",
       " {u'name': u'MKT_SUM_URL',\n",
       "  u't': 8,\n",
       "  u'value': u'marketsummary2.fxcorporate.com'},\n",
       " {u'name': u'PRICE_ARCHIVE_REQUESTS_CACHE_ENABLED', u't': 8, u'value': u'Y'},\n",
       " {u'name': u'PRICE_ARCHIVE_URL',\n",
       "  u't': 8,\n",
       "  u'value': u'pricehistory.fxcorporate.com'},\n",
       " {u'name': u'PWD_EXPIRY_DAYS', u't': 8, u'value': u'180'},\n",
       " {u'name': u'REFERRER_VALUE', u't': 8, u'value': u'fxcm.com/uk'},\n",
       " {u'name': u'REPORTS_URL',\n",
       "  u't': 8,\n",
       "  u'value': u'https://fxpa.fxcorporate.com/fxpa/getreport.app/'},\n",
       " {u'name': u'RETAIL_FLAG', u't': 8, u'value': u''},\n",
       " {u'name': u'SERVER_TIME_UTC', u't': 8, u'value': u'UTC'},\n",
       " {u'name': u'SERVICE_LEVEL', u't': 8, u'value': u''},\n",
       " {u'name': u'SHOW_MR', u't': 8, u'value': u'MMR'},\n",
       " {u'name': u'SPANISH_WELCOME_MSG_ENU_1',\n",
       "  u't': 8,\n",
       "  u'value': u'0x0D0x0D0x0AThis is 1 of 2 risk disclosures to which you must read and consent.0x0D0x0D0x0A0x0D0x0D0x0AYou are about to purchase a product that is not simple and is difficult to understand: rolling spot foreign exchange or contract for differences.  The CNMV considers that due to its complexity and risk, the acquisition of this product by retail customers such as yourself, is not appropriate. 0x0D0x0D0x0A Rolling spot foreign exchange or contract for differences is a product with leverage. You must be aware that the losses may be greater than the amount initially disbursed for its acquisition. Aside from any losses, you must be aware that if you decide to close your position, you must pay a cost equal to the commission, if applicable (available on our website). The opening and closing of a position are each considered a separate transaction and therefore each incur a separate cost.  0x0D0x0D0x0A0x0D0x0D0x0AINSTRUCTIONS:0x0D0x0D0x0A0x0D0x0D0x0AIn order to proceed, you must type - I understand that this product is complex and CNMV considers that it is not appropriate for me - when sending your reply.  Please ensure you input the statement accurately and do not format the text.0x0D0x0D0x0A'},\n",
       " {u'name': u'SPANISH_WELCOME_MSG_ENU_2',\n",
       "  u't': 8,\n",
       "  u'value': u'0x0D0x0D0x0AThis is 2 of 2 risk disclosures to which you must read and consent.0x0D0x0D0x0A0x0D0x0D0x0AYou are about to purchase a product that is not simple and is difficult to understand: rolling spot foreign exchange or contract for differences.  The CNMV considers that due to its complexity and risk, the acquisition of this product by retail customers such as yourself, is not appropriate. 0x0D0x0D0x0A Rolling spot foreign exchange or contract for differences is a product with leverage. You must be aware that the losses may be greater than the amount initially disbursed for its acquisition. Aside from any losses, you must be aware that if you decide to close your position, you must pay a cost equal to the commission, if applicable (available on our website). The opening and closing of a position are each considered a separate transaction and therefore each incur a separate cost.  0x0D0x0D0x0A0x0D0x0D0x0AINSTRUCTIONS:0x0D0x0D0x0A0x0D0x0D0x0AIn order to proceed, you must type - I understand that this product is complex and CNMV considers that it is not appropriate for me - when sending your reply.  Please ensure you input the statement accurately and do not format the text.0x0D0x0D0x0A'},\n",
       " {u'name': u'SPANISH_WELCOME_MSG_SPN_1',\n",
       "  u't': 8,\n",
       "  u'value': u'Aviso de Riesgo:0x0D0x0D0x0A0x0D0x0D0x0A 1ro de 2 avisos de riesgo que debe leer y aceptar.0x0D0x0D0x0A0x0D0x0D0x0A Est\\xe1 a punto de adquirir un producto que no es sencillo y que puede ser dif\\xedcil de entender: ?rolling spot foreign exchange? o contratos financieros por diferencias. La CNMV considera que debido a su complejidad y riesgo, no es adecuada la adquisici\\xf3n de este producto por clientes que como Usted son minoristas.  0x0D0x0D0x0ARolling spot foreign exchange o contratos financieros por diferencias es un producto con apalancamiento.  Debe ser consciente de que las p\\xe9rdidas pueden ser superiors al importe desembolsado inicialmente para su adquisici\\xf3n.  Aparte de cualquier p\\xe9rdida, usted debe tener en cuenta que en el caso de que decida cerrar una posici\\xf3n, deber\\xe1 (si procede) pagar un coste igual a la comisi\\xf3n (disponible en nuestro sitio web). La apertura y el cierre de una posici\\xf3n se consideran, cada una, como una transacci\\xf3n separada y, por lo tanto, cada una incurre en un coste aparte.0x0D0x0D0x0A0x0D0x0D0x0AINSTRUCCIONES:0x0D0x0D0x0A0x0D0x0D0x0APara continuar, usted deber escribir exactamente \"Este producto es complejo y la CNMV considera que no es conveniente para m\\xed\" al momento de enviar su respuesta. Por favor aseg\\xfarese de colocar la oraci\\xf3n tal cual como aparece en las instrucciones y no haga ning\\xfan cambio al formato del texto. 0x0D0x0D0x0A0x0D0x0D0x0A'},\n",
       " {u'name': u'SPANISH_WELCOME_MSG_SPN_2',\n",
       "  u't': 8,\n",
       "  u'value': u'Aviso de Riesgo:0x0D0x0D0x0A0x0D0x0D0x0A 2do de 2 avisos de riesgo que debe leer y aceptar.0x0D0x0D0x0A0x0D0x0D0x0A Est\\xe1 a punto de adquirir un producto que no es sencillo y que puede ser dif\\xedcil de entender: ?rolling spot foreign exchange? o contratos financieros por diferencias. La CNMV considera que debido a su complejidad y riesgo, no es adecuada la adquisici\\xf3n de este producto por clientes que como Usted son minoristas.  0x0D0x0D0x0ARolling spot foreign exchange o contratos financieros por diferencias es un producto con apalancamiento.  Debe ser consciente de que las p\\xe9rdidas pueden ser superiors al importe desembolsado inicialmente para su adquisici\\xf3n.  Aparte de cualquier p\\xe9rdida, usted debe tener en cuenta que en el caso de que decida cerrar una posici\\xf3n, deber\\xe1 (si procede) pagar un coste igual a la comisi\\xf3n (disponible en nuestro sitio web). La apertura y el cierre de una posici\\xf3n se consideran, cada una, como una transacci\\xf3n separada y, por lo tanto, cada una incurre en un coste aparte.0x0D0x0D0x0A0x0D0x0D0x0AINSTRUCCIONES:0x0D0x0D0x0A0x0D0x0D0x0APara continuar, usted deber escribir exactamente \"Este producto es complejo y la CNMV considera que no es conveniente para m\\xed\" al momento de enviar su respuesta. Por favor aseg\\xfarese de colocar la oraci\\xf3n tal cual como aparece en las instrucciones y no haga ning\\xfan cambio al formato del texto. 0x0D0x0D0x0A0x0D0x0D0x0A'},\n",
       " {u'name': u'STRATEGY_RUNNER_URL',\n",
       "  u't': 8,\n",
       "  u'value': u'https://strunnerx.fxcorporate.com:443'},\n",
       " {u'name': u'SUMMSUB_SortEnabled', u't': 8, u'value': u'TRUE'},\n",
       " {u'name': u'SUMM_SortEnabled', u't': 8, u'value': u'TRUE'},\n",
       " {u'name': u'SYMINFO_SERVICE_URL',\n",
       "  u't': 8,\n",
       "  u'value': u'http://symbolservice.fxcorporate.com/CAS/data'},\n",
       " {u'name': u'SYSTEM_TYPE', u't': 8, u'value': u'Demo'},\n",
       " {u'name': u'SYS_NAME', u't': 8, u'value': u'FX Trading System'},\n",
       " {u'name': u'SYS_VERSION', u't': 8, u'value': u'1.00.000'},\n",
       " {u'name': u'THREE_LEVEL_MARGIN', u't': 8, u'value': u'Y'},\n",
       " {u'name': u'THRESHOLD', u't': 8, u'value': u'75000'},\n",
       " {u'name': u'TP_107', u't': 8, u'value': u'Y'},\n",
       " {u'name': u'TP_170', u't': 8, u'value': u'Y'},\n",
       " {u'name': u'TP_171', u't': 8, u'value': u'Y'},\n",
       " {u'name': u'TP_172', u't': 8, u'value': u'Y'},\n",
       " {u'name': u'TP_86', u't': 8, u'value': u'Y'},\n",
       " {u'name': u'TP_88', u't': 8, u'value': u'Y'},\n",
       " {u'name': u'TP_94', u't': 8, u'value': u'Y'},\n",
       " {u'name': u'TRAILING_DYNAMIC', u't': 8, u'value': u'Y'},\n",
       " {u'name': u'TRAILING_DYNAMIC_PTS', u't': 8, u'value': u'10'},\n",
       " {u'name': u'TRAILING_FLUCTUATE', u't': 8, u'value': u'Y'},\n",
       " {u'name': u'TRAILING_FLUCTUATE_PTS_MAX', u't': 8, u'value': u'300'},\n",
       " {u'name': u'TRAILING_FLUCTUATE_PTS_MIN', u't': 8, u'value': u'10'},\n",
       " {u'name': u'TRAILING_STOP_DYNAMIC', u't': 8, u'value': u'Y'},\n",
       " {u'name': u'TRAILING_STOP_USED', u't': 8, u'value': u'Y'},\n",
       " {u'name': u'SupportBatchRequest', u't': 8, u'value': u'true'},\n",
       " {u'name': u'LoadTradeProfilesAttempts', u't': 8, u'value': u'3'},\n",
       " {u'name': u'QUERYDEPTH_h3', u't': 8, u'value': u'300'},\n",
       " {u'name': u'QUERYDEPTH_h2', u't': 8, u'value': u'300'},\n",
       " {u'name': u'QUERYDEPTH_5', u't': 8, u'value': u'300'},\n",
       " {u'name': u'LoadTradeProfilesPeriod', u't': 8, u'value': u'60000'},\n",
       " {u'name': u'QUERYDEPTH_4', u't': 8, u'value': u'300'},\n",
       " {u'name': u'QUERYDEPTH_7', u't': 8, u'value': u'300'},\n",
       " {u'name': u'QUERYDEPTH_6', u't': 8, u'value': u'300'},\n",
       " {u'name': u'QUERYDEPTH_8', u't': 8, u'value': u'300'},\n",
       " {u'name': u'QUERYDEPTH_1', u't': 8, u'value': u'300'},\n",
       " {u'name': u'QUERYDEPTH_0', u't': 8, u'value': u'300'},\n",
       " {u'name': u'SupportMDHistoryRequest', u't': 8, u'value': u'true'},\n",
       " {u'name': u'QUERYDEPTH_3', u't': 8, u'value': u'300'},\n",
       " {u'name': u'QUERYDEPTH_2', u't': 8, u'value': u'300'},\n",
       " {u'name': u'SupportOffersFilter', u't': 8, u'value': u'true'},\n",
       " {u'name': u'BatchMarketDataSnapshot', u't': 8, u'value': u'true'},\n",
       " {u'name': u'QUERYDEPTH_h4', u't': 8, u'value': u'300'},\n",
       " {u'name': u'QUERYDEPTH_h6', u't': 8, u'value': u'300'},\n",
       " {u'name': u'SupportTickVolume', u't': 8, u'value': u'true'},\n",
       " {u'name': u'QUERYDEPTH_h8', u't': 8, u'value': u'300'},\n",
       " {u'name': u'USER_KIND', u't': 8, u'value': u'20'}]"
      ]
     },
     "execution_count": 425,
     "metadata": {},
     "output_type": "execute_result"
    }
   ],
   "source": [
    "trader.properties"
   ]
  },
  {
   "cell_type": "raw",
   "metadata": {},
   "source": [
    "trader.account_id"
   ]
  },
  {
   "cell_type": "code",
   "execution_count": 395,
   "metadata": {},
   "outputs": [
    {
     "data": {
      "text/plain": [
       "{u'response': {u'executed': True},\n",
       " 'status': True,\n",
       " u'summary': [{u'amountK': 0,\n",
       "   u'amountKBuy': 0,\n",
       "   u'amountKSell': 0,\n",
       "   u'avgBuy': 0,\n",
       "   u'avgSell': 0,\n",
       "   u'closeBuy': 0,\n",
       "   u'closeSell': 0,\n",
       "   u'currency': u'',\n",
       "   u'currencyPoint': 0,\n",
       "   u'grossPL': 0,\n",
       "   u'isBuyDisabled': False,\n",
       "   u'isSellDisabled': False,\n",
       "   u'isTotal': True,\n",
       "   u'netLimit': 0,\n",
       "   u'netPL': 0,\n",
       "   u'netStop': 0,\n",
       "   u'netStopMove': 0,\n",
       "   u'offerId': 0,\n",
       "   u'plBuy': 0,\n",
       "   u'plSell': 0,\n",
       "   u'ratePrecision': 0,\n",
       "   u'rollSum': 0,\n",
       "   u't': 5,\n",
       "   u'usedMarginBuy': 0,\n",
       "   u'usedMarginSell': 0}]}"
      ]
     },
     "execution_count": 395,
     "metadata": {},
     "output_type": "execute_result"
    }
   ],
   "source": [
    "trader.summary"
   ]
  },
  {
   "cell_type": "code",
   "execution_count": 285,
   "metadata": {},
   "outputs": [
    {
     "name": "stdout",
     "output_type": "stream",
     "text": [
      "{'status': True, u'pairs': u'{\"Updated\":1505698961,\"Rates\":[151.028,151.038,151.104,150.48399999999998,151.028,151.038],\"Symbol\":\"GBP/JPY\"}', u'response': {u'executed': True, u'error': u''}}\n",
      "{'GBP/JPY': 'GBP/JPY', 'EUR/USD': 'EUR/USD'}\n"
     ]
    }
   ],
   "source": [
    "result = trader.subscribe_symbol(\"GBP/JPY\")\n",
    "print result\n",
    "print trader.subscriptions"
   ]
  },
  {
   "cell_type": "code",
   "execution_count": 366,
   "metadata": {},
   "outputs": [
    {
     "name": "stdout",
     "output_type": "stream",
     "text": [
      "PriceUpdate(bid=1.19485, ask=1.19486,high=1.19506, low=1.19199, updated='2017/09/18 10:50:56:000000')\n",
      "1.19485\n",
      "1.19486\n"
     ]
    },
    {
     "name": "stderr",
     "output_type": "stream",
     "text": [
      "Exception in thread D25607976prodGeneral:\n",
      "Traceback (most recent call last):\n",
      "  File \"c:\\python27\\lib\\threading.py\", line 801, in __bootstrap_inner\n",
      "    self.run()\n",
      "  File \"c:\\python27\\lib\\threading.py\", line 754, in run\n",
      "    self.__target(*self.__args, **self.__kwargs)\n",
      "  File \"fxcm_rest_api.py\", line 217, in _loop\n",
      "    self.socketIO.wait(1)\n",
      "  File \"c:\\python27\\lib\\site-packages\\socketIO_client\\__init__.py\", line 251, in wait\n",
      "    self._process_packets()\n",
      "  File \"c:\\python27\\lib\\site-packages\\socketIO_client\\__init__.py\", line 278, in _process_packets\n",
      "    self._process_packet(engineIO_packet)\n",
      "  File \"c:\\python27\\lib\\site-packages\\socketIO_client\\__init__.py\", line 491, in _process_packet\n",
      "    delegate(parse_socketIO_packet_data(socketIO_packet_data), namespace)\n",
      "  File \"c:\\python27\\lib\\site-packages\\socketIO_client\\__init__.py\", line 513, in _on_event\n",
      "    namespace._find_packet_callback(event)(*args)\n",
      "  File \"fxcm_rest_api.py\", line 394, in on_offer\n",
      "    self.Print(\"Offer Update:\" + message, \"Offer\", \"INFO\")\n",
      "TypeError: cannot concatenate 'str' and 'dict' objects\n",
      "\n"
     ]
    }
   ],
   "source": [
    "print trader.symbols[\"EUR/USD\"]\n",
    "print trader.symbols[\"EUR/USD\"].bid\n",
    "print trader.symbols[\"EUR/USD\"].ask"
   ]
  },
  {
   "cell_type": "code",
   "execution_count": 124,
   "metadata": {},
   "outputs": [],
   "source": [
    "trader.symbols['EUR/USD'].unsubscribe()"
   ]
  },
  {
   "cell_type": "code",
   "execution_count": 89,
   "metadata": {},
   "outputs": [],
   "source": [
    "import plotly.plotly as py\n",
    "import plotly.graph_objs as go\n",
    "import numpy\n",
    "import pandas_datareader.data as web\n",
    "from datetime import datetime"
   ]
  },
  {
   "cell_type": "code",
   "execution_count": 163,
   "metadata": {},
   "outputs": [],
   "source": [
    "cd = trader.get_candles(\"EUR/USD\", \"H1\", 10, datetime_fmt=\"%Y/%m/%d %H:%M:%S:%f\")"
   ]
  },
  {
   "cell_type": "code",
   "execution_count": 164,
   "metadata": {},
   "outputs": [
    {
     "name": "stdout",
     "output_type": "stream",
     "text": [
      "High five! You successfuly sent some data to your account on plotly. View your plot in your browser at https://plot.ly/~jarius/0 or inside your plot.ly account where it is named 'candlestick_datetime'\n"
     ]
    },
    {
     "data": {
      "text/html": [
       "<iframe id=\"igraph\" scrolling=\"no\" style=\"border:none;\" seamless=\"seamless\" src=\"https://plot.ly/~jarius/0.embed\" height=\"525px\" width=\"100%\"></iframe>"
      ],
      "text/plain": [
       "<plotly.tools.PlotlyDisplay object>"
      ]
     },
     "execution_count": 164,
     "metadata": {},
     "output_type": "execute_result"
    }
   ],
   "source": [
    "a = numpy.array(cd['candles'])\n",
    "trace = go.Candlestick(x= [datetime.fromtimestamp(int(t)) for t in a[:,0]], \n",
    "                       open=a[:,1], high=a[:,3], low=a[:,4], close=a[:,2])\n",
    "data = [trace]\n",
    "py.iplot(data, filename='candlestick_datetime')"
   ]
  },
  {
   "cell_type": "code",
   "execution_count": 165,
   "metadata": {},
   "outputs": [
    {
     "name": "stdout",
     "output_type": "stream",
     "text": [
      "1.18845 1.19058\n",
      "1.19058 1.19047\n",
      "1.19047 1.18955\n",
      "1.18955 1.19014\n",
      "1.18955 1.19014\n"
     ]
    }
   ],
   "source": [
    "for x in range(5):\n",
    "    print trace['open'][x], trace['close'][x]"
   ]
  },
  {
   "cell_type": "code",
   "execution_count": 152,
   "metadata": {},
   "outputs": [
    {
     "data": {
      "text/plain": [
       "{'close': array(['1.1892', '1.18921', '1.18925', '1.18925', '1.1883'],\n",
       "       dtype='|S32'),\n",
       " 'high': array(['1.19027', '1.19027', '1.19091', '1.19091', '1.18982'],\n",
       "       dtype='|S32'),\n",
       " 'low': array(['1.18778', '1.18778', '1.18372', '1.18372', '1.18683'],\n",
       "       dtype='|S32'),\n",
       " 'open': array(['1.19013', '1.19013', '1.1892', '1.18921', '1.18925'],\n",
       "       dtype='|S32'),\n",
       " 'type': 'candlestick',\n",
       " 'x': [datetime.datetime(2017, 9, 14, 20, 0),\n",
       "  datetime.datetime(2017, 9, 14, 20, 0),\n",
       "  datetime.datetime(2017, 9, 14, 21, 0),\n",
       "  datetime.datetime(2017, 9, 14, 21, 0),\n",
       "  datetime.datetime(2017, 9, 14, 22, 0)]}"
      ]
     },
     "execution_count": 152,
     "metadata": {},
     "output_type": "execute_result"
    }
   ],
   "source": [
    "trace"
   ]
  },
  {
   "cell_type": "code",
   "execution_count": 166,
   "metadata": {},
   "outputs": [
    {
     "name": "stdout",
     "output_type": "stream",
     "text": [
      "['1505372400' '1505376000' '1505379600' '1505383200' '1505383200'\n",
      " '1505386800' '1505386800' '1505390400' '1505390400' '1505394000']\n",
      "1505372400 2017/09/14 16:00:00:000000\n",
      "1505376000 2017/09/14 17:00:00:000000\n",
      "1505379600 2017/09/14 18:00:00:000000\n",
      "1505383200 2017/09/14 19:00:00:000000\n",
      "1505383200 2017/09/14 19:00:00:000000\n",
      "1505386800 2017/09/14 20:00:00:000000\n",
      "1505386800 2017/09/14 20:00:00:000000\n",
      "1505390400 2017/09/14 21:00:00:000000\n",
      "1505390400 2017/09/14 21:00:00:000000\n",
      "1505394000 2017/09/14 22:00:00:000000\n"
     ]
    },
    {
     "name": "stderr",
     "output_type": "stream",
     "text": [
      "WARNING:socketIO-client:api.fxcm.com:443/socket.io [connection error] recv disconnected (Connection is already closed.)\n",
      "WARNING:socketIO-client:api.fxcm.com:443/socket.io [connection error] recv disconnected (Connection is already closed.)\n",
      "WARNING:socketIO-client:api.fxcm.com:443/socket.io [engine.io waiting for connection] ('Connection aborted.', BadStatusLine(\"''\",))\n",
      "WARNING:socketIO-client:api.fxcm.com:443/socket.io [connection error] recv disconnected ([Errno 10035] A non-blocking socket operation could not be completed immediately)\n",
      "WARNING:socketIO-client:api.fxcm.com:443/socket.io [connection error] recv disconnected ([Errno 10035] A non-blocking socket operation could not be completed immediately)\n",
      "WARNING:socketIO-client:api.fxcm.com:443/socket.io [connection error] recv disconnected (Connection is already closed.)\n",
      "WARNING:socketIO-client:api.fxcm.com:443/socket.io [connection error] recv disconnected (Connection is already closed.)\n",
      "WARNING:socketIO-client:api.fxcm.com:443/socket.io [engine.io waiting for connection] ('Connection aborted.', BadStatusLine(\"''\",))\n",
      "WARNING:socketIO-client:api.fxcm.com:443/socket.io [engine.io waiting for connection] HTTPSConnectionPool(host='api.fxcm.com', port=443): Max retries exceeded with url: /socket.io/?access_token=cj7kels6h0019csfeteknsx0s&EIO=3&transport=polling&t=1505531067031-0 (Caused by SSLError(SSLError(\"bad handshake: SysCallError(-1, 'Unexpected EOF')\",),))\n",
      "WARNING:socketIO-client:api.fxcm.com:443/socket.io [engine.io waiting for connection] ('Connection aborted.', BadStatusLine(\"''\",))\n",
      "WARNING:socketIO-client:api.fxcm.com:443/socket.io [connection error] recv disconnected ([Errno 10035] A non-blocking socket operation could not be completed immediately)\n",
      "WARNING:socketIO-client:api.fxcm.com:443/socket.io [connection error] recv disconnected ([Errno 10035] A non-blocking socket operation could not be completed immediately)\n"
     ]
    }
   ],
   "source": [
    " [datetime.fromtimestamp(int(t)) for t in a[:,0]]\n",
    "print a[:,0]\n",
    "for candle in cd['candles']:\n",
    "    print candle[0], candle[10]"
   ]
  }
 ],
 "metadata": {
  "kernelspec": {
   "display_name": "Python 2",
   "language": "python",
   "name": "python2"
  },
  "language_info": {
   "codemirror_mode": {
    "name": "ipython",
    "version": 2
   },
   "file_extension": ".py",
   "mimetype": "text/x-python",
   "name": "python",
   "nbconvert_exporter": "python",
   "pygments_lexer": "ipython2",
   "version": "2.7.12"
  }
 },
 "nbformat": 4,
 "nbformat_minor": 2
}
