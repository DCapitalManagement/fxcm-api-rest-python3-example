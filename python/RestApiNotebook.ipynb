{
 "cells": [
  {
   "cell_type": "code",
   "execution_count": 5,
   "metadata": {
    "collapsed": true
   },
   "outputs": [],
   "source": [
    "import requests"
   ]
  },
  {
   "cell_type": "code",
   "execution_count": 6,
   "metadata": {
    "collapsed": false
   },
   "outputs": [],
   "source": [
    "import json\n",
    "from importlib import reload\n",
    "import fxcm_rest_api_token as fxcm_rest_api\n",
    "result = reload(fxcm_rest_api)"
   ]
  },
  {
   "cell_type": "code",
   "execution_count": 12,
   "metadata": {
    "collapsed": false,
    "scrolled": true
   },
   "outputs": [
    {
     "data": {
      "text/plain": [
       "{'data': 'Connecting', 'status': True}"
      ]
     },
     "execution_count": 12,
     "metadata": {},
     "output_type": "execute_result"
    }
   ],
   "source": [
    "trader = fxcm_rest_api.Trader('41f3794186be161b3b5c7a409019e47c82f09916', 'prod')\n",
    "trader.debug_level = \"INFO\"\n",
    "trader.login()"
   ]
  },
  {
   "cell_type": "code",
   "execution_count": 14,
   "metadata": {
    "collapsed": false
   },
   "outputs": [
    {
     "name": "stdout",
     "output_type": "stream",
     "text": [
      "45\n",
      "[1511285400, 1.17362, 1.1739, 1.17441, 1.1735200000000001, 1.17364, 1.17391, 1.17441, 1.17353, 2563, '2017/11/22 02:30:00']\n",
      "[1511286300, 1.1739, 1.1742700000000001, 1.1743000000000001, 1.1737300000000002, 1.17391, 1.17429, 1.17431, 1.1737199999999999, 1533, '2017/11/22 02:45:00']\n",
      "[1511287200, 1.1742700000000001, 1.17511, 1.17519, 1.1741300000000001, 1.17429, 1.1751, 1.1752, 1.17412, 2015, '2017/11/22 03:00:00']\n",
      "[1511288100, 1.17511, 1.17438, 1.17511, 1.1743700000000001, 1.1751, 1.17439, 1.1751, 1.17438, 2338, '2017/11/22 03:15:00']\n",
      "[1511289000, 1.17438, 1.17389, 1.17445, 1.17365, 1.17439, 1.17391, 1.17448, 1.1736499999999999, 1925, '2017/11/22 03:30:00']\n",
      "[1511289900, 1.17389, 1.1746100000000002, 1.17467, 1.1735600000000002, 1.17391, 1.17462, 1.17469, 1.17357, 1583, '2017/11/22 03:45:00']\n",
      "[1511290800, 1.17462, 1.1746100000000002, 1.17477, 1.17439, 1.1746299999999998, 1.17461, 1.17479, 1.17439, 1971, '2017/11/22 04:00:00']\n",
      "[1511291700, 1.1746100000000002, 1.17463, 1.17497, 1.17432, 1.17461, 1.17464, 1.17499, 1.1743299999999999, 2123, '2017/11/22 04:15:00']\n",
      "[1511292600, 1.17463, 1.17397, 1.17468, 1.17397, 1.17464, 1.17398, 1.17469, 1.17397, 1812, '2017/11/22 04:30:00']\n",
      "[1511293500, 1.1739600000000001, 1.1742700000000001, 1.1743400000000002, 1.17389, 1.17398, 1.17429, 1.1743299999999999, 1.17388, 2119, '2017/11/22 04:45:00']\n",
      "[1511294400, 1.1742700000000001, 1.17397, 1.17452, 1.1739, 1.17429, 1.17398, 1.17454, 1.17391, 1297, '2017/11/22 05:00:00']\n",
      "[1511295300, 1.1739600000000001, 1.17411, 1.1743700000000001, 1.1735900000000001, 1.17398, 1.17412, 1.1743599999999998, 1.17361, 1485, '2017/11/22 05:15:00']\n",
      "[1511296200, 1.17412, 1.17371, 1.1741700000000002, 1.17361, 1.17412, 1.17373, 1.17417, 1.1736199999999999, 677, '2017/11/22 05:30:00']\n",
      "[1511297100, 1.17371, 1.17387, 1.1739600000000001, 1.17351, 1.17373, 1.1738899999999999, 1.17398, 1.17352, 1158, '2017/11/22 05:45:00']\n",
      "[1511298000, 1.1738600000000001, 1.1739600000000001, 1.17399, 1.1735200000000001, 1.17388, 1.17398, 1.1739899999999999, 1.17353, 831, '2017/11/22 06:00:00']\n",
      "[1511298900, 1.1739600000000001, 1.17419, 1.1742000000000001, 1.17391, 1.17398, 1.1742, 1.1742, 1.1739199999999999, 276, '2017/11/22 06:15:00']\n",
      "[1511299800, 1.17419, 1.1739, 1.1743400000000002, 1.17384, 1.1742, 1.1739199999999999, 1.17435, 1.17387, 757, '2017/11/22 06:30:00']\n",
      "[1511300700, 1.17389, 1.1737300000000002, 1.1739600000000001, 1.17372, 1.17391, 1.1738499999999998, 1.1739899999999999, 1.17374, 691, '2017/11/22 06:45:00']\n",
      "[1511301600, 1.17374, 1.17368, 1.17412, 1.17346, 1.17386, 1.17377, 1.17414, 1.1734499999999999, 191, '2017/11/22 07:00:00']\n",
      "[1511302500, 1.17367, 1.1734900000000001, 1.17367, 1.1732200000000002, 1.17377, 1.17351, 1.17377, 1.1733, 155, '2017/11/22 07:15:00']\n",
      "[1511303400, 1.1734900000000001, 1.1735900000000001, 1.1736600000000001, 1.1733500000000001, 1.17351, 1.17364, 1.1737499999999998, 1.1734, 657, '2017/11/22 07:30:00']\n",
      "[1511304300, 1.1736, 1.17336, 1.17363, 1.17326, 1.1736499999999999, 1.1734499999999999, 1.1736499999999999, 1.1733, 864, '2017/11/22 07:45:00']\n",
      "[1511305200, 1.1733500000000001, 1.1735600000000002, 1.17382, 1.17328, 1.17344, 1.17361, 1.17384, 1.1733799999999999, 696, '2017/11/22 08:00:00']\n",
      "[1511306100, 1.1735600000000002, 1.1738, 1.1747100000000001, 1.1735600000000002, 1.17361, 1.17384, 1.17475, 1.1736, 1313, '2017/11/22 08:15:00']\n",
      "[1511307000, 1.1738, 1.1737, 1.1738600000000001, 1.17365, 1.17384, 1.17374, 1.17388, 1.17367, 734, '2017/11/22 08:30:00']\n",
      "[1511307900, 1.1737, 1.17416, 1.17423, 1.17365, 1.17374, 1.17418, 1.17425, 1.17367, 1157, '2017/11/22 08:45:00']\n",
      "[1511308800, 1.1738300000000002, 1.17395, 1.17431, 1.17381, 1.17383, 1.17398, 1.17432, 1.1738199999999999, 1537, '2017/11/22 09:00:00']\n",
      "[1511309700, 1.17394, 1.1745700000000001, 1.1746100000000002, 1.1738300000000002, 1.17398, 1.17458, 1.1746299999999998, 1.1738499999999998, 3072, '2017/11/22 09:15:00']\n",
      "[1511310600, 1.17458, 1.1742700000000001, 1.1747800000000002, 1.17412, 1.17458, 1.17428, 1.17479, 1.17415, 1064, '2017/11/22 09:30:00']\n",
      "[1511311500, 1.1742700000000001, 1.17406, 1.1743000000000001, 1.1737600000000001, 1.17428, 1.17408, 1.17432, 1.17378, 942, '2017/11/22 09:45:00']\n",
      "[1511312400, 1.17406, 1.1738300000000002, 1.1741700000000002, 1.17375, 1.17408, 1.17384, 1.17418, 1.17377, 1105, '2017/11/22 10:00:00']\n",
      "[1511313300, 1.17384, 1.1737, 1.17391, 1.17361, 1.17384, 1.1737199999999999, 1.17393, 1.1736199999999999, 924, '2017/11/22 10:15:00']\n",
      "[1511314200, 1.1737, 1.17378, 1.17394, 1.17353, 1.1737199999999999, 1.1738, 1.17395, 1.17354, 1214, '2017/11/22 10:30:00']\n",
      "[1511315100, 1.17377, 1.1738600000000001, 1.17392, 1.17362, 1.17379, 1.17388, 1.17394, 1.17361, 936, '2017/11/22 10:45:00']\n",
      "[1511316000, 1.17387, 1.1739600000000001, 1.17402, 1.17371, 1.1738899999999999, 1.17398, 1.17404, 1.1737199999999999, 889, '2017/11/22 11:00:00']\n",
      "[1511316900, 1.1739600000000001, 1.17365, 1.1739600000000001, 1.17362, 1.17398, 1.1736499999999999, 1.17398, 1.17361, 769, '2017/11/22 11:15:00']\n",
      "[1511317800, 1.17365, 1.17358, 1.1737, 1.1735200000000001, 1.1736499999999999, 1.1735799999999998, 1.17371, 1.17353, 626, '2017/11/22 11:30:00']\n",
      "[1511318700, 1.17358, 1.1736600000000001, 1.17377, 1.1735600000000002, 1.1735799999999998, 1.1736799999999998, 1.17379, 1.1735499999999999, 550, '2017/11/22 11:45:00']\n",
      "[1511319600, 1.1736600000000001, 1.1736600000000001, 1.17375, 1.1734900000000001, 1.1736799999999998, 1.1736799999999998, 1.1737499999999998, 1.1734799999999999, 975, '2017/11/22 12:00:00']\n",
      "[1511320500, 1.1736600000000001, 1.17397, 1.17398, 1.17351, 1.17369, 1.1739899999999999, 1.17401, 1.17354, 486, '2017/11/22 12:15:00']\n",
      "[1511321400, 1.1739600000000001, 1.1737600000000001, 1.17401, 1.17375, 1.17398, 1.1737499999999998, 1.17404, 1.1737499999999998, 844, '2017/11/22 12:30:00']\n",
      "[1511322300, 1.1737600000000001, 1.1738600000000001, 1.17392, 1.1737600000000001, 1.1737499999999998, 1.17388, 1.1739199999999999, 1.1737499999999998, 514, '2017/11/22 12:45:00']\n",
      "[1511323200, 1.1738600000000001, 1.17394, 1.17414, 1.17378, 1.1738899999999999, 1.17395, 1.1741599999999999, 1.1738, 566, '2017/11/22 13:00:00']\n",
      "[1511324100, 1.17394, 1.17416, 1.17425, 1.1739, 1.17395, 1.17417, 1.1742599999999999, 1.17388, 768, '2017/11/22 13:15:00']\n",
      "[1511325000, 1.17416, 1.1743700000000001, 1.1744400000000002, 1.17411, 1.17417, 1.17439, 1.1744599999999998, 1.17411, 413, '2017/11/22 13:30:00']\n"
     ]
    }
   ],
   "source": [
    "c =trader.candles(\"EUR/USD\", \"m15\", 45, dt_fmt=\"%Y/%m/%d %H:%M:%S\")['candles']\n",
    "print(len(c))\n",
    "for candle in c:\n",
    "    print(candle)"
   ]
  },
  {
   "cell_type": "code",
   "execution_count": null,
   "metadata": {
    "collapsed": false
   },
   "outputs": [],
   "source": [
    "help(trader.open_trade)"
   ]
  },
  {
   "cell_type": "code",
   "execution_count": 26,
   "metadata": {
    "collapsed": false
   },
   "outputs": [],
   "source": [
    "res = trader.open_trade(trader.account_id, \"USD/JPY\", True, 1)\n",
    "orderId = res['data']['orderId']"
   ]
  },
  {
   "cell_type": "code",
   "execution_count": 12,
   "metadata": {
    "collapsed": false
   },
   "outputs": [],
   "source": [
    "tradeId = trader.get_tradeId(orderId)"
   ]
  },
  {
   "cell_type": "code",
   "execution_count": 15,
   "metadata": {
    "collapsed": false
   },
   "outputs": [
    {
     "name": "stdout",
     "output_type": "stream",
     "text": [
      "90513844\n"
     ]
    }
   ],
   "source": [
    "print(tradeId)"
   ]
  },
  {
   "cell_type": "code",
   "execution_count": 27,
   "metadata": {
    "collapsed": false
   },
   "outputs": [
    {
     "data": {
      "text/plain": [
       "{'data': [{'orderId': 148191345, 'type': 0}],\n",
       " 'response': {'executed': True},\n",
       " 'status': True}"
      ]
     },
     "execution_count": 27,
     "metadata": {},
     "output_type": "execute_result"
    },
    {
     "name": "stderr",
     "output_type": "stream",
     "text": [
      "WARNING:socketIO-client:api.fxcm.com:443/socket.io [engine.io waiting for connection] ('Connection aborted.', OSError(\"(10054, 'WSAECONNRESET')\",))\n",
      "WARNING:socketIO-client:api.fxcm.com:443/socket.io [engine.io waiting for connection] ('Connection aborted.', OSError(\"(10054, 'WSAECONNRESET')\",))\n",
      "WARNING:socketIO-client:api.fxcm.com:443/socket.io [engine.io waiting for connection] ('Connection aborted.', OSError(\"(10054, 'WSAECONNRESET')\",))\n"
     ]
    }
   ],
   "source": [
    "trader.close_all_for_symbol(\"USD/JPY\")"
   ]
  },
  {
   "cell_type": "code",
   "execution_count": 7,
   "metadata": {
    "collapsed": true
   },
   "outputs": [],
   "source": [
    "def print_candles(candle_data):\n",
    "    candles = candle_data['candles']\n",
    "    headers = candle_data['headers']\n",
    "    print(\"{0[10]}, {0[1]}, {0[3]}, {0[4]}, {0[2]}\".format(headers))\n",
    "    candles.reverse()\n",
    "    for candle in candles:\n",
    "        print(\"{0[10]}, {0[1]:0.6}, {0[3]:0.6}, {0[4]:0.6}, {0[2]:0.6}\".format(candle))"
   ]
  },
  {
   "cell_type": "code",
   "execution_count": null,
   "metadata": {
    "collapsed": false
   },
   "outputs": [],
   "source": [
    "print_candles(cd)"
   ]
  },
  {
   "cell_type": "code",
   "execution_count": 9,
   "metadata": {
    "collapsed": false
   },
   "outputs": [
    {
     "name": "stdout",
     "output_type": "stream",
     "text": [
      "datestring, bidopen, bidhigh, bidlow, bidclose\n",
      "2017/10/20 22:04:00, 1.18016, 1.18023, 1.18011, 1.18021\n",
      "2017/10/20 22:03:00, 1.18036, 1.18037, 1.18011, 1.18016\n",
      "2017/10/20 22:02:00, 1.18033, 1.18043, 1.18032, 1.18036\n",
      "2017/10/20 22:01:00, 1.18032, 1.18039, 1.18022, 1.18033\n",
      "2017/10/20 22:00:00, 1.1801, 1.18033, 1.18009, 1.18031\n"
     ]
    }
   ],
   "source": [
    "print_candles(trader.get_candles(\"EUR/USD\", \"m1\", 5, dt_fmt=\"%Y/%m/%d %H:%M:%S\"))\n",
    "# time.sleep(60)\n",
    "# print(\"*\"*30)\n",
    "# print_candles(trader.get_candles(\"EUR/USD\", \"m1\", 5, dt_fmt=\"%Y/%m/%d %H:%M:%aS\"))"
   ]
  },
  {
   "cell_type": "code",
   "execution_count": 5,
   "metadata": {
    "collapsed": false
   },
   "outputs": [
    {
     "data": {
      "text/plain": [
       "{'candles': <map at 0x5014780>,\n",
       " 'headers': ['timestamp',\n",
       "  'bidopen',\n",
       "  'bidclose',\n",
       "  'bidhigh',\n",
       "  'bidlow',\n",
       "  'askopen',\n",
       "  'askclose',\n",
       "  'askhigh',\n",
       "  'asklow',\n",
       "  'tickqty',\n",
       "  'datestring'],\n",
       " 'instrument_id': '1',\n",
       " 'period_id': 'm1',\n",
       " 'response': {'error': '', 'executed': True},\n",
       " 'status': True}"
      ]
     },
     "execution_count": 5,
     "metadata": {},
     "output_type": "execute_result"
    }
   ],
   "source": [
    "trader.candles_as_dict(\"EUR/USD\", \"m1\", 1, dt_fmt=\"%Y/%m/%d %H:%M:%S\")\n",
    "\n"
   ]
  },
  {
   "cell_type": "code",
   "execution_count": null,
   "metadata": {
    "collapsed": false
   },
   "outputs": [],
   "source": [
    "help(trader.open_trade)"
   ]
  },
  {
   "cell_type": "code",
   "execution_count": null,
   "metadata": {
    "collapsed": false
   },
   "outputs": [],
   "source": [
    "trader.close_all_for_symbol(trader.account_id, True, \"USD/JPY\", \"AtMarket\", \"GTC\")"
   ]
  },
  {
   "cell_type": "code",
   "execution_count": null,
   "metadata": {
    "collapsed": false
   },
   "outputs": [],
   "source": [
    "trader.socketIO._engineIO_session.id"
   ]
  },
  {
   "cell_type": "code",
   "execution_count": 9,
   "metadata": {
    "collapsed": false
   },
   "outputs": [
    {
     "data": {
      "text/plain": [
       "{}"
      ]
     },
     "execution_count": 9,
     "metadata": {},
     "output_type": "execute_result"
    }
   ],
   "source": [
    "trader.accounts"
   ]
  },
  {
   "cell_type": "code",
   "execution_count": 10,
   "metadata": {
    "collapsed": false
   },
   "outputs": [
    {
     "data": {
      "text/plain": [
       "[]"
      ]
     },
     "execution_count": 10,
     "metadata": {},
     "output_type": "execute_result"
    }
   ],
   "source": [
    "trader.properties"
   ]
  },
  {
   "cell_type": "code",
   "execution_count": 11,
   "metadata": {
    "collapsed": false
   },
   "outputs": [
    {
     "name": "stdout",
     "output_type": "stream",
     "text": [
      "None\n"
     ]
    },
    {
     "name": "stderr",
     "output_type": "stream",
     "text": [
      "WARNING:socketIO-client:api-demo.fxcm.com:443/socket.io [connection error] recv disconnected (Connection is already closed.)\n",
      "WARNING:socketIO-client:api-demo.fxcm.com:443/socket.io [engine.io waiting for connection] ('Connection aborted.', OSError(\"(10054, 'WSAECONNRESET')\",))\n"
     ]
    }
   ],
   "source": [
    "print(trader.account_id)"
   ]
  },
  {
   "cell_type": "code",
   "execution_count": null,
   "metadata": {
    "collapsed": true
   },
   "outputs": [],
   "source": [
    "def show(msg):\n",
    "    '''\n",
    "    Sample price handler. If on_price_update is registered for a symbol,\n",
    "    it will update the symbol's values (stored in a symbol hash) with\n",
    "    that price update.symbol hash.\n",
    "\n",
    "    :return: none\n",
    "    '''\n",
    "    try:\n",
    "        md = json.loads(msg)\n",
    "        symbol = md[\"Symbol\"]\n",
    "        t = trader\n",
    "        si = trader.symbol_info.get(symbol, {})\n",
    "        p_up = dict(symbol_info=t.symbol_info[symbol], parent=t)\n",
    "        t.symbols[symbol] = t.symbols.get(symbol, fxcm_rest_api\n",
    "                                          .PriceUpdate(p_up,\n",
    "                                                       symbol_info=si))\n",
    "        trader.symbols[symbol].bid, trader.symbols[symbol].ask,\\\n",
    "            trader.symbols[symbol].high,\\\n",
    "            trader.symbols[symbol].low = md['Rates']\n",
    "        trader.symbols[symbol].updated = md['Updated']\n",
    "        print(t.symbols[symbol])\n",
    "    except Exception as e:\n",
    "        trader.logger.error(\"Can't handle price update: \" + str(e))\n",
    "\n",
    "# trader = fx"
   ]
  },
  {
   "cell_type": "code",
   "execution_count": null,
   "metadata": {
    "collapsed": false,
    "scrolled": true
   },
   "outputs": [],
   "source": [
    "#trader.unsubscribe_symbol(\"EUR/USD\")\n",
    "trader.subscribe_symbol(\"EUR/USD\", handler=show)"
   ]
  },
  {
   "cell_type": "code",
   "execution_count": null,
   "metadata": {
    "collapsed": false
   },
   "outputs": [],
   "source": [
    "trader.unsubscribe_symbol(\"EUR/USD\")"
   ]
  },
  {
   "cell_type": "code",
   "execution_count": null,
   "metadata": {
    "collapsed": false
   },
   "outputs": [],
   "source": [
    "result = trader.subscribe_symbol(\"GBP/JPY\")\n",
    "print(result)\n",
    "print(trader.subscriptions)"
   ]
  },
  {
   "cell_type": "code",
   "execution_count": null,
   "metadata": {
    "collapsed": false
   },
   "outputs": [],
   "source": [
    "print(trader.symbols[\"GBP/JPY\"])\n",
    "print(trader.symbols[\"GBP/JPY\"].bid)\n",
    "print(trader.symbols[\"GBP/JPY\"].ask)"
   ]
  },
  {
   "cell_type": "code",
   "execution_count": null,
   "metadata": {
    "collapsed": false
   },
   "outputs": [],
   "source": [
    "print(trader.symbols['GBP/JPY'].parent)"
   ]
  },
  {
   "cell_type": "code",
   "execution_count": null,
   "metadata": {
    "collapsed": false
   },
   "outputs": [],
   "source": [
    "trader.unsubscribe_symbol(\"GBP/JPY\")"
   ]
  },
  {
   "cell_type": "code",
   "execution_count": null,
   "metadata": {
    "collapsed": true
   },
   "outputs": [],
   "source": [
    "trader.open_trade(trader.account_id, \"USD/JPY\", True, 1, at_market=1, time_in_force=\"FOK\")"
   ]
  },
  {
   "cell_type": "code",
   "execution_count": 51,
   "metadata": {
    "collapsed": false
   },
   "outputs": [
    {
     "name": "stdout",
     "output_type": "stream",
     "text": [
      "1110000 1100001 1110011 1110011\n",
      "pass\n",
      "104\n",
      "h\n"
     ]
    }
   ],
   "source": [
    "p = 'pass'\n",
    "e = ' '.join(format(ord(x), 'b') for x in p)\n",
    "r = ''\n",
    "print(e)\n",
    "for c in e.split(' '): \n",
    "    r += chr(int(c,2))\n",
    "print(r)\n",
    "\n",
    "X = \"0110100001101001\"\n",
    "print(int(X[:8], 2))\n",
    "print(chr(int(X[:8], 2)))\n",
    "# ''.join(format(chr(x), 'c') for x in int(e.split(' ')))"
   ]
  },
  {
   "cell_type": "code",
   "execution_count": 30,
   "metadata": {
    "collapsed": false
   },
   "outputs": [
    {
     "data": {
      "text/plain": [
       "1231"
      ]
     },
     "execution_count": 30,
     "metadata": {},
     "output_type": "execute_result"
    }
   ],
   "source": []
  }
 ],
 "metadata": {
  "kernelspec": {
   "display_name": "Python 3",
   "language": "python",
   "name": "python3"
  },
  "language_info": {
   "codemirror_mode": {
    "name": "ipython",
    "version": 3
   },
   "file_extension": ".py",
   "mimetype": "text/x-python",
   "name": "python",
   "nbconvert_exporter": "python",
   "pygments_lexer": "ipython3",
   "version": "3.6.0"
  }
 },
 "nbformat": 4,
 "nbformat_minor": 2
}
