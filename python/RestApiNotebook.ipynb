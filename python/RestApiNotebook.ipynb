{
 "cells": [
  {
   "cell_type": "code",
   "execution_count": 116,
   "metadata": {
    "collapsed": false
   },
   "outputs": [],
   "source": [
    "import json\n",
    "from importlib import reload\n",
    "import fxcm_rest_api\n",
    "\n",
    "result = reload(fxcm_rest_api)"
   ]
  },
  {
   "cell_type": "code",
   "execution_count": 117,
   "metadata": {
    "collapsed": false
   },
   "outputs": [
    {
     "data": {
      "text/plain": [
       "{'data': 'cj8ds0vqv0008sdfebifhfg5b', 'status': True}"
      ]
     },
     "execution_count": 117,
     "metadata": {},
     "output_type": "execute_result"
    }
   ],
   "source": [
    "trader = fxcm_rest_api.Trader('D25607976', '2956', 'prod')\n",
    "trader.debug_level = \"INFO\"\n",
    "trader.login()"
   ]
  },
  {
   "cell_type": "code",
   "execution_count": 114,
   "metadata": {
    "collapsed": false
   },
   "outputs": [
    {
     "data": {
      "text/plain": [
       "[{'accountId': '607416',\n",
       "  'accountName': '00607416',\n",
       "  'balance': 50009.94,\n",
       "  'dayPL': -0.09,\n",
       "  'equity': 50009.94,\n",
       "  'grossPL': 0,\n",
       "  'hedging': 'Y',\n",
       "  'mc': 'N',\n",
       "  'ratePrecision': 0,\n",
       "  't': 6,\n",
       "  'usableMargin': 50009.94,\n",
       "  'usableMargin3': 50009.94,\n",
       "  'usableMargin3Perc': 100,\n",
       "  'usableMarginPerc': 100,\n",
       "  'usdMr': 0,\n",
       "  'usdMr3': 0},\n",
       " {'accountId': '',\n",
       "  'accountName': '',\n",
       "  'balance': 50009.94,\n",
       "  'dayPL': -0.09,\n",
       "  'equity': 50009.94,\n",
       "  'grossPL': 0,\n",
       "  'hedging': '',\n",
       "  'isTotal': True,\n",
       "  'mc': '',\n",
       "  'ratePrecision': 0,\n",
       "  't': 6,\n",
       "  'usableMargin': 50009.94,\n",
       "  'usableMargin3': 0,\n",
       "  'usableMargin3Perc': 0,\n",
       "  'usableMarginPerc': 100,\n",
       "  'usdMr': 0,\n",
       "  'usdMr3': 0}]"
      ]
     },
     "execution_count": 114,
     "metadata": {},
     "output_type": "execute_result"
    }
   ],
   "source": [
    "trader.get_model(\"Account\").get(\"accounts\")"
   ]
  },
  {
   "cell_type": "code",
   "execution_count": 100,
   "metadata": {
    "collapsed": false
   },
   "outputs": [
    {
     "name": "stdout",
     "output_type": "stream",
     "text": [
      "{'status': True, 'data': 'cj8drstb80007sdferqq8cy0m'}\n"
     ]
    }
   ],
   "source": [
    "print(trader.auth_response)"
   ]
  },
  {
   "cell_type": "code",
   "execution_count": 101,
   "metadata": {
    "collapsed": false
   },
   "outputs": [
    {
     "name": "stdout",
     "output_type": "stream",
     "text": [
      "{'status': True, 'response': {'executed': True, 'error': ''}, 'instrument_id': '1', 'period_id': 'H1', 'candles': [[1507129200, 1.1759600000000001, 1.17611, 1.1764400000000002, 1.17537, 1.17597, 1.17612, 1.17645, 1.17537, 12357], [1507132800, 1.17611, 1.17631, 1.17666, 1.17568, 1.17612, 1.1763, 1.1766699999999999, 1.17569, 7342], [1507136400, 1.1763000000000001, 1.17638, 1.1764700000000001, 1.17545, 1.1762899999999998, 1.17639, 1.17648, 1.1754499999999999, 5645], [1507140000, 1.17638, 1.17641, 1.1765700000000001, 1.17602, 1.17639, 1.17642, 1.17659, 1.1760199999999998, 4297], [1507143600, 1.17642, 1.17629, 1.1766, 1.17615, 1.17642, 1.1763, 1.17662, 1.17617, 4922], [1507147200, 1.17629, 1.1758, 1.17663, 1.1758, 1.1763, 1.1762, 1.17662, 1.17587, 2419], [1507150800, 1.1758, 1.17571, 1.17616, 1.17561, 1.1762, 1.17573, 1.17641, 1.17561, 3074], [1507154400, 1.1757, 1.17609, 1.17631, 1.17562, 1.1757199999999999, 1.17612, 1.1763299999999999, 1.17564, 2532], [1507158000, 1.17609, 1.1756600000000001, 1.17625, 1.17553, 1.17612, 1.1756799999999998, 1.17627, 1.17552, 1694], [1507161600, 1.1756600000000001, 1.17545, 1.1759, 1.1751800000000001, 1.17567, 1.17547, 1.1759199999999999, 1.17516, 6204]], 'headers': ['timestamp', 'bidopen', 'bidclose', 'bidhigh', 'bidlow', 'askopen', 'askclose', 'askhigh', 'asklow', 'tickqty']}\n"
     ]
    }
   ],
   "source": [
    "print(trader.get_candles(\"EUR/USD\", \"H1\", 10))"
   ]
  },
  {
   "cell_type": "code",
   "execution_count": 118,
   "metadata": {
    "collapsed": false
   },
   "outputs": [
    {
     "name": "stdout",
     "output_type": "stream",
     "text": [
      "['607416', '']\n",
      "true\n"
     ]
    },
    {
     "data": {
      "text/plain": [
       "{'data': None, 'response': {'executed': True}, 'status': True}"
      ]
     },
     "execution_count": 118,
     "metadata": {},
     "output_type": "execute_result"
    }
   ],
   "source": [
    "print(trader.account_list)\n",
    "trader.open_trade(trader.account_id, \"USD/JPY\", True, 10)"
   ]
  },
  {
   "cell_type": "code",
   "execution_count": 93,
   "metadata": {
    "collapsed": false
   },
   "outputs": [
    {
     "name": "stdout",
     "output_type": "stream",
     "text": [
      "Help on method open_trade in module fxcm_rest_api:\n",
      "\n",
      "open_trade(account_id, symbol, is_buy, amount, rate=0, at_market=0, time_in_force='GTC', order_type='AtMarket', stop=None, trailing_step=None, limit=None, is_in_pips=None) method of fxcm_rest_api.Trader instance\n",
      "    Create a Market Order with options for At Best or Market Range,\n",
      "    and optional attached stops and limits.\n",
      "    \n",
      "    :param account_id:\n",
      "    :param symbol:\n",
      "    :param is_buy:\n",
      "    :param amount:\n",
      "    :param rate:\n",
      "    :param at_market:\n",
      "    :param time_in_force:\n",
      "    :param order_type:\n",
      "    :param stop: * Optional *\n",
      "    :param trailing_step: * Optional *\n",
      "    :param limit: * Optional *\n",
      "    :param is_in_pips: * Optional *\n",
      "    :return: response Dict\n",
      "\n"
     ]
    }
   ],
   "source": [
    "help(trader.open_trade)"
   ]
  },
  {
   "cell_type": "code",
   "execution_count": 119,
   "metadata": {
    "collapsed": false
   },
   "outputs": [
    {
     "data": {
      "text/plain": [
       "{'data': [None], 'response': {'executed': True}, 'status': True}"
      ]
     },
     "execution_count": 119,
     "metadata": {},
     "output_type": "execute_result"
    }
   ],
   "source": [
    "trader.close_all_for_symbol(trader.account_id, True, \"USD/JPY\", \"AtMarket\", \"GTC\")"
   ]
  },
  {
   "cell_type": "code",
   "execution_count": 74,
   "metadata": {
    "collapsed": false
   },
   "outputs": [
    {
     "ename": "AttributeError",
     "evalue": "'NoneType' object has no attribute '_engineIO_session'",
     "output_type": "error",
     "traceback": [
      "\u001b[0;31m---------------------------------------------------------------------------\u001b[0m",
      "\u001b[0;31mAttributeError\u001b[0m                            Traceback (most recent call last)",
      "\u001b[0;32m<ipython-input-74-43efe8968d47>\u001b[0m in \u001b[0;36m<module>\u001b[0;34m()\u001b[0m\n\u001b[0;32m----> 1\u001b[0;31m \u001b[0mtrader\u001b[0m\u001b[1;33m.\u001b[0m\u001b[0msocketIO\u001b[0m\u001b[1;33m.\u001b[0m\u001b[0m_engineIO_session\u001b[0m\u001b[1;33m.\u001b[0m\u001b[0mid\u001b[0m\u001b[1;33m\u001b[0m\u001b[0m\n\u001b[0m",
      "\u001b[0;31mAttributeError\u001b[0m: 'NoneType' object has no attribute '_engineIO_session'"
     ]
    }
   ],
   "source": [
    "trader.socketIO._engineIO_session.id"
   ]
  },
  {
   "cell_type": "code",
   "execution_count": 75,
   "metadata": {
    "collapsed": false
   },
   "outputs": [
    {
     "data": {
      "text/plain": [
       "{}"
      ]
     },
     "execution_count": 75,
     "metadata": {},
     "output_type": "execute_result"
    }
   ],
   "source": [
    "trader.accounts"
   ]
  },
  {
   "cell_type": "code",
   "execution_count": 42,
   "metadata": {
    "collapsed": false
   },
   "outputs": [
    {
     "data": {
      "text/plain": [
       "[]"
      ]
     },
     "execution_count": 42,
     "metadata": {},
     "output_type": "execute_result"
    }
   ],
   "source": [
    "trader.properties"
   ]
  },
  {
   "cell_type": "code",
   "execution_count": 105,
   "metadata": {
    "collapsed": false
   },
   "outputs": [
    {
     "name": "stdout",
     "output_type": "stream",
     "text": [
      "None\n"
     ]
    }
   ],
   "source": [
    "print(trader.account_id)"
   ]
  },
  {
   "cell_type": "code",
   "execution_count": null,
   "metadata": {
    "collapsed": true
   },
   "outputs": [],
   "source": [
    "def show(msg):\n",
    "    '''\n",
    "    Sample price handler. If on_price_update is registered for a symbol,\n",
    "    it will update the symbol's values (stored in a symbol hash) with\n",
    "    that price update.symbol hash.\n",
    "\n",
    "    :return: none\n",
    "    '''\n",
    "    try:\n",
    "        md = json.loads(msg)\n",
    "        symbol = md[\"Symbol\"]\n",
    "        t = trader\n",
    "        si = trader.symbol_info.get(symbol, {})\n",
    "        p_up = dict(symbol_info=t.symbol_info[symbol], parent=t)\n",
    "        t.symbols[symbol] = t.symbols.get(symbol, fxcm_rest_api\n",
    "                                          .PriceUpdate(p_up,\n",
    "                                                       symbol_info=si))\n",
    "        trader.symbols[symbol].bid, trader.symbols[symbol].ask,\\\n",
    "            trader.symbols[symbol].high,\\\n",
    "            trader.symbols[symbol].low = md['Rates']\n",
    "        trader.symbols[symbol].updated = md['Updated']\n",
    "        print(t.symbols[symbol])\n",
    "    except Exception as e:\n",
    "        trader.logger.error(\"Can't handle price update: \" + str(e))\n",
    "\n",
    "# trader = fx"
   ]
  },
  {
   "cell_type": "code",
   "execution_count": 51,
   "metadata": {
    "collapsed": false,
    "scrolled": true
   },
   "outputs": [
    {
     "data": {
      "text/plain": [
       "{'data': 'Not connected', 'status': False}"
      ]
     },
     "execution_count": 51,
     "metadata": {},
     "output_type": "execute_result"
    }
   ],
   "source": [
    "#trader.unsubscribe_symbol(\"EUR/USD\")\n",
    "trader.subscribe_symbol(\"EUR/USD\", handler=show)"
   ]
  },
  {
   "cell_type": "code",
   "execution_count": 44,
   "metadata": {
    "collapsed": false
   },
   "outputs": [
    {
     "data": {
      "text/plain": [
       "{'data': 'Unauthorized', 'status': False}"
      ]
     },
     "execution_count": 44,
     "metadata": {},
     "output_type": "execute_result"
    }
   ],
   "source": [
    "trader.unsubscribe_symbol(\"EUR/USD\")"
   ]
  },
  {
   "cell_type": "code",
   "execution_count": 106,
   "metadata": {
    "collapsed": false
   },
   "outputs": [
    {
     "name": "stdout",
     "output_type": "stream",
     "text": [
      "{'status': True, 'response': {'executed': True, 'error': ''}, 'pairs': '{\"Updated\":1507166234,\"Rates\":[149.224,149.233,149.466,149.10799999999998,149.224,149.233],\"Symbol\":\"GBP/JPY\"}'}\n",
      "{'GBP/JPY': 'GBP/JPY'}\n"
     ]
    }
   ],
   "source": [
    "result = trader.subscribe_symbol(\"GBP/JPY\")\n",
    "print(result)\n",
    "print(trader.subscriptions)"
   ]
  },
  {
   "cell_type": "code",
   "execution_count": 112,
   "metadata": {
    "collapsed": false
   },
   "outputs": [
    {
     "name": "stdout",
     "output_type": "stream",
     "text": [
      "PriceUpdate(bid=149.222, ask=149.231,high=149.466, low=149.108, updated='2017/10/05 10:17:21:000000')\n",
      "149.22199999999998\n",
      "149.23100000000002\n"
     ]
    }
   ],
   "source": [
    "print(trader.symbols[\"GBP/JPY\"])\n",
    "print(trader.symbols[\"GBP/JPY\"].bid)\n",
    "print(trader.symbols[\"GBP/JPY\"].ask)"
   ]
  },
  {
   "cell_type": "code",
   "execution_count": 33,
   "metadata": {
    "collapsed": false
   },
   "outputs": [
    {
     "name": "stdout",
     "output_type": "stream",
     "text": [
      "None\n"
     ]
    }
   ],
   "source": [
    "print(trader.symbols['GBP/JPY'].parent)"
   ]
  },
  {
   "cell_type": "code",
   "execution_count": 115,
   "metadata": {
    "collapsed": false
   },
   "outputs": [
    {
     "data": {
      "text/plain": [
       "{'pairs': 'GBP/JPY',\n",
       " 'response': {'error': '', 'executed': True},\n",
       " 'status': True}"
      ]
     },
     "execution_count": 115,
     "metadata": {},
     "output_type": "execute_result"
    }
   ],
   "source": [
    "trader.unsubscribe_symbol(\"GBP/JPY\")"
   ]
  },
  {
   "cell_type": "raw",
   "metadata": {},
   "source": []
  },
  {
   "cell_type": "code",
   "execution_count": null,
   "metadata": {
    "collapsed": true
   },
   "outputs": [],
   "source": [
    "import plotly.plotly as py\n",
    "import plotly.graph_objs as go\n",
    "import numpy\n",
    "import pandas_datareader.data as web\n",
    "from datetime import datetime"
   ]
  },
  {
   "cell_type": "code",
   "execution_count": 55,
   "metadata": {
    "collapsed": false
   },
   "outputs": [
    {
     "name": "stdout",
     "output_type": "stream",
     "text": [
      "(False, 'Instrument EUR/USD not found')\n"
     ]
    }
   ],
   "source": [
    "print(trader.get_candles(\"EUR/USD\", \"H1\", 10))"
   ]
  },
  {
   "cell_type": "code",
   "execution_count": null,
   "metadata": {
    "collapsed": false
   },
   "outputs": [],
   "source": [
    "a = numpy.array(cd['candles'])\n",
    "trace = go.Candlestick(x= [datetime.fromtimestamp(int(t)) for t in a[:,0]], \n",
    "                       open=a[:,1], high=a[:,3], low=a[:,4], close=a[:,2])\n",
    "data = [trace]\n",
    "py.iplot(data, filename='candlestick_datetime')"
   ]
  },
  {
   "cell_type": "code",
   "execution_count": null,
   "metadata": {
    "collapsed": false
   },
   "outputs": [],
   "source": [
    "for x in range(5):\n",
    "    print trace['open'][x], trace['close'][x]"
   ]
  },
  {
   "cell_type": "raw",
   "metadata": {
    "collapsed": false
   },
   "source": [
    "trace"
   ]
  },
  {
   "cell_type": "code",
   "execution_count": 18,
   "metadata": {
    "collapsed": false
   },
   "outputs": [
    {
     "name": "stdout",
     "output_type": "stream",
     "text": [
      "true\n"
     ]
    },
    {
     "data": {
      "text/plain": [
       "{'data': 'Unauthorized', 'status': False}"
      ]
     },
     "execution_count": 18,
     "metadata": {},
     "output_type": "execute_result"
    }
   ],
   "source": [
    "trader.open_trade(trader.account_id, \"USD/JPY\", True, 1, at_market=1, time_in_force=\"FOK\")"
   ]
  },
  {
   "cell_type": "code",
   "execution_count": 23,
   "metadata": {
    "collapsed": false
   },
   "outputs": [
    {
     "name": "stdout",
     "output_type": "stream",
     "text": [
      "Help on Trader in module fxcm_rest_api object:\n",
      "\n",
      "class Trader(builtins.object)\n",
      " |  FXCM REST API abstractor.\n",
      " |  Obtain a new instance of this class and use that\n",
      " |  to do all trade and account actions.\n",
      " |  \n",
      " |  Methods defined here:\n",
      " |  \n",
      " |  Print(self, message, message_type=None, level='INFO')\n",
      " |  \n",
      " |  __enter__(self)\n",
      " |  \n",
      " |  __exit__(self, *err)\n",
      " |  \n",
      " |  __init__(self, user, password, environment, messageHandler=None, purpose='General', config_file='fxcm_rest.json')\n",
      " |      Initialize self.  See help(type(self)) for accurate signature.\n",
      " |  \n",
      " |  add_method(self, method)\n",
      " |      Returns a method suitable for addition to the instance.\n",
      " |      Can be used to override methods without subclassing.\n",
      " |      self.on_connect = self.add_method(MyConnectMethodHandler)\n",
      " |      :param method:\n",
      " |      :return: instance method\n",
      " |  \n",
      " |  add_to_oco(self, orderIds, ocoBulkId)\n",
      " |      Add order(s) to an OCO\n",
      " |      \n",
      " |      :param orderIds:\n",
      " |      :param ocoBulkId:\n",
      " |      :return: response Dict\n",
      " |  \n",
      " |  candles = get_candles(self, instrument, period, num, From=None, To=None, dt_fmt=None)\n",
      " |  \n",
      " |  candles_as_dict(self, instrument, period, num, From=None, To=None, dt_fmt=None)\n",
      " |      Allow user to retrieve candle for a given instrument at a give time\n",
      " |      as a dictionary.\n",
      " |      \n",
      " |      :param instrument: instrument_id or instrument. If instrument, will\n",
      " |                         use mode information to convert to instrument_id\n",
      " |      :param period: m1, m5, m15, m30, H1, H2, H3, H4, H6, H8, D1, W1, M1\n",
      " |      :param num: candles, max = 10,000\n",
      " |      :param From: timestamp or date/time string. Will conver to timestamp\n",
      " |      :param To: timestamp or date/time string. Will conver to timestamp\n",
      " |      :param dt_fmt: Adding this optional parameter will add an additional\n",
      " |                     field to the candle data with the timestamp converted\n",
      " |                     to the datetime string provided. Example:\n",
      " |      .candles(\"USD/JPY\", \"m1\", 3, datetime_fmt=\"%Y/%m/%d %H:%M:%S:%f\")\n",
      " |      [1503694620, 109.321, 109.326, 109.326, 109.316, 109.359,\n",
      " |      109.358, 109.362, 109.357, 28, '2017/08/26 05:57:00:000000']\n",
      " |      :return: response Dict\n",
      " |  \n",
      " |  change_order(self, order_id, rate, rng, amount, trailing_step=None)\n",
      " |      Change order rate/amount\n",
      " |      \n",
      " |      :param order_id:\n",
      " |      :param rate:\n",
      " |      :param range:\n",
      " |      :param amount:\n",
      " |      :param trailing_step: * Optional *\n",
      " |      :return: response Dict\n",
      " |  \n",
      " |  change_order_stop_limit(self, order_id, is_stop, rate, is_in_pips, trailing_step)\n",
      " |      Creates/removes/changes the stop/limit order for the specified order.\n",
      " |      If the current stop/limit rate for the specified order is not set\n",
      " |      (is zero) and the new rate is not zero,\n",
      " |      then creates a new order.\n",
      " |      If the current stop/limit rate for the specified order is set\n",
      " |      (is not zero), changes order rate (if the new rate is not zero)\n",
      " |      or deletes order (if the new rate is zero).\n",
      " |      \n",
      " |      \n",
      " |      :param order_id:\n",
      " |      :param is_stop:\n",
      " |      :param rate:\n",
      " |      :param is_in_pips:\n",
      " |      :param trailing_step:\n",
      " |      :return: response Dict\n",
      " |  \n",
      " |  change_password(self, oldpwd, newpwd)\n",
      " |      Change user password\n",
      " |      \n",
      " |      :param oldpwd:\n",
      " |      :param newpwd:\n",
      " |      :return: response Dict\n",
      " |  \n",
      " |  change_trade_stop_limit(self, trade_id, is_stop, rate, is_in_pips, trailing_step)\n",
      " |      Creates/removes/changes the stop/limit order for the specified trade.\n",
      " |      If the current stop/limit rate for the specified trade is not set\n",
      " |      (is zero) and the new rate is not zero, then creates a new order.\n",
      " |      If the current stop/limit rate for the specified trade is set\n",
      " |      (is not zero), changes order rate (if the new rate is not zero) or\n",
      " |      deletes order (if the new rate is zero).\n",
      " |      \n",
      " |      \n",
      " |      :param trade_id:\n",
      " |      :param is_stop:\n",
      " |      :param rate:\n",
      " |      :param is_in_pips:\n",
      " |      :param trailing_step:\n",
      " |      :return: response Dict\n",
      " |  \n",
      " |  close_all_for_symbol(self, account_id, forSymbol, symbol, order_type, time_in_force)\n",
      " |      Closes all trades for the specified account and symbol by creating net\n",
      " |      quantity orders, if these orders are enabled, or by creating regular\n",
      " |      close orders otherwise.\n",
      " |      \n",
      " |      :param account_id:\n",
      " |      :param forSymbol: True/False\n",
      " |      :param symbol:\n",
      " |      :param order_type: AtMarket / MarketRange\n",
      " |      :param time_in_force: IOC GTC FOK DAY GTD\n",
      " |      :return: response Dict\n",
      " |  \n",
      " |  close_trade(self, trade_id, amount, at_market=0, time_in_force='GTC', order_type='AtMarket', rate=None)\n",
      " |      Close existing trade\n",
      " |      \n",
      " |      :param trade_id:\n",
      " |      :param amount:\n",
      " |      :param at_market:\n",
      " |      :param time_in_force:\n",
      " |      :param order_type:\n",
      " |      :param rate: * Optional *\n",
      " |      :return: response Dict\n",
      " |  \n",
      " |  create_entry_order(self, account_id, symbol, is_buy, amount, limit, is_in_pips, order_type, time_in_force, rate=0, stop=None, trailing_step=None)\n",
      " |      Create a Limit Entry or a Stop Entry order.\n",
      " |      An order priced away from the market (not marketable)\n",
      " |      will be submitted as a Limit Entry order. An order priced through the\n",
      " |      market will be submitted as a Stop Entry order.\n",
      " |      \n",
      " |      If the market is at 1.1153 x 1.1159\n",
      " |      *   Buy Entry order @ 1.1165 will be processed as a\n",
      " |          Buy Stop Entry order.\n",
      " |      *   Buy Entry order @ 1.1154 will be processed as a\n",
      " |          Buy Limit Entry order\n",
      " |      \n",
      " |      :param account_id:\n",
      " |      :param symbol:\n",
      " |      :param is_buy:\n",
      " |      :param amount:\n",
      " |      :param limit:\n",
      " |      :param is_in_pips:\n",
      " |      :param order_type:\n",
      " |      :param time_in_force:\n",
      " |      :param rate:\n",
      " |      :param stop: * Optional *\n",
      " |      :param trailing_step: * Optional *\n",
      " |      :return: response Dict\n",
      " |  \n",
      " |  delete_order(self, account_id, symbol, is_buy, amount, rate=0, at_market=0, time_in_force='GTC', order_type='AtMarket', stop=None, trailing_step=None, limit=None, is_in_pips=None)\n",
      " |      Delete open order\n",
      " |      \n",
      " |      :param account_id:\n",
      " |      :param symbol:\n",
      " |      :param is_buy:\n",
      " |      :param amount:\n",
      " |      :param rate:\n",
      " |      :param at_market:\n",
      " |      :param time_in_force:\n",
      " |      :param order_type:\n",
      " |      :param stop: * Optional *\n",
      " |      :param trailing_step: * Optional *\n",
      " |      :param limit: * Optional *\n",
      " |      :param is_in_pips: * Optional *\n",
      " |      :return: response Dict\n",
      " |  \n",
      " |  edit_oco(self, ocoBulkId, addOrderIds, removeIds)\n",
      " |      Edit an OCO\n",
      " |      \n",
      " |      :param ocoBulkId:\n",
      " |      :param addOrderIds:\n",
      " |      :param removeOrderIds:\n",
      " |      :return: response Dict\n",
      " |  \n",
      " |  get_candles(self, instrument, period, num, From=None, To=None, dt_fmt=None)\n",
      " |      Allow user to retrieve candle for a given instrument at a give time\n",
      " |      \n",
      " |      :param instrument: instrument_id or instrument. If instrument, will\n",
      " |                         use mode information to convert to instrument_id\n",
      " |      :param period: m1, m5, m15, m30, H1, H2, H3, H4, H6, H8, D1, W1, M1\n",
      " |      :param num: candles, max = 10,000\n",
      " |      :param From: timestamp or date/time string. Will conver to timestamp\n",
      " |      :param To: timestamp or date/time string. Will conver to timestamp\n",
      " |      :param dt_fmt: Adding this optional parameter will add an additional\n",
      " |                     field to the candle data with the timestamp converted\n",
      " |                     to the datetime string provided. Example:\n",
      " |      .candles(\"USD/JPY\", \"m1\", 3, datetime_fmt=\"%Y/%m/%d %H:%M:%S:%f\")\n",
      " |      [1503694620, 109.321, 109.326, 109.326, 109.316, 109.359,\n",
      " |      109.358, 109.362, 109.357, 28, '2017/08/26 05:57:00:000000']\n",
      " |      :return: response Dict\n",
      " |  \n",
      " |  get_model(self, item)\n",
      " |      Gets current content snapshot of the specified data models.\n",
      " |      Model choices:\n",
      " |      'Offer', 'OpenPosition', 'ClosedPosition', 'Order', 'Summary',\n",
      " |      'LeverageProfile', 'Account', 'Properties'\n",
      " |      \n",
      " |      :param item:\n",
      " |      :return: response Dict\n",
      " |  \n",
      " |  get_offers(self)\n",
      " |  \n",
      " |  initialize(self)\n",
      " |  \n",
      " |  login(self)\n",
      " |      Once you have an instance, run this method to log in to the service.\n",
      " |      Do this before any other calls\n",
      " |      :return: Dict\n",
      " |  \n",
      " |  logout(self)\n",
      " |      Unsubscribes from all subscribed items and logs out.\n",
      " |      :return:\n",
      " |  \n",
      " |  on_account(self, msg)\n",
      " |  \n",
      " |  on_closedposition(self, msg)\n",
      " |  \n",
      " |  on_connect(self)\n",
      " |      Actions to be preformed on login. By default will subscribe to updates\n",
      " |      for items defined in subscription_list. subscription_list is in the\n",
      " |      json self.CONFIG with options explained there. If messageHandler was\n",
      " |      passed on instantiation, that will be used to handle all messages.\n",
      " |      Alternatively, this method can be overridden before login is called to\n",
      " |      provide different on_connect functionality.\n",
      " |      \n",
      " |      :return: None\n",
      " |  \n",
      " |  on_disconnect(self)\n",
      " |      Simply logs info of the socket being closed.\n",
      " |      Override to add functionality\n",
      " |      \n",
      " |      :return: None\n",
      " |  \n",
      " |  on_leverageprofile(self, msg)\n",
      " |  \n",
      " |  on_message(self, msg)\n",
      " |      Sample generic message handling.\n",
      " |      Will update that specific message type with the latest message\n",
      " |      \n",
      " |      :return:\n",
      " |  \n",
      " |  on_offer(self, msg)\n",
      " |  \n",
      " |  on_openposition(self, msg)\n",
      " |  \n",
      " |  on_order(self, msg)\n",
      " |  \n",
      " |  on_price_update(self, msg)\n",
      " |      Sample price handler. If on_price_update is registered for a symbol,\n",
      " |      it will update the symbol's values (stored in a symbol hash) with\n",
      " |      that price update.symbol hash.\n",
      " |      \n",
      " |      :return: none\n",
      " |  \n",
      " |  on_properties(self, msg)\n",
      " |  \n",
      " |  on_summary(self, msg)\n",
      " |  \n",
      " |  open_trade(self, account_id, symbol, is_buy, amount, rate=0, at_market=0, time_in_force='GTC', order_type='AtMarket', stop=None, trailing_step=None, limit=None, is_in_pips=None)\n",
      " |      Create a Market Order with options for At Best or Market Range,\n",
      " |      and optional attached stops and limits.\n",
      " |      \n",
      " |      :param account_id:\n",
      " |      :param symbol:\n",
      " |      :param is_buy:\n",
      " |      :param amount:\n",
      " |      :param rate:\n",
      " |      :param at_market:\n",
      " |      :param time_in_force:\n",
      " |      :param order_type:\n",
      " |      :param stop: * Optional *\n",
      " |      :param trailing_step: * Optional *\n",
      " |      :param limit: * Optional *\n",
      " |      :param is_in_pips: * Optional *\n",
      " |      :return: response Dict\n",
      " |  \n",
      " |  permissions(self)\n",
      " |      Gets the object which defines permissions for the specified account\n",
      " |      identifier and symbol. Each property of that object specifies the\n",
      " |      corresponding permission (\"createEntry\", \"createMarket\",\n",
      " |      \"netStopLimit\", \"createOCO\" and so on).\n",
      " |      The value of the property specifies the permission status\n",
      " |      (\"disabled\", \"enabled\" or \"hidden\")\n",
      " |      \n",
      " |      \n",
      " |      :param item:\n",
      " |      :return: response Dict\n",
      " |  \n",
      " |  register_handler(self, message, handler)\n",
      " |      Register a callback handler for a specified message type\n",
      " |      \n",
      " |      :param message: string\n",
      " |      :param handler: function\n",
      " |      :return: None\n",
      " |  \n",
      " |  remove_from_oco(self, orderIds)\n",
      " |      Remove order(s) from OCO\n",
      " |      \n",
      " |      :param orderIds:\n",
      " |      :return: response Dict\n",
      " |  \n",
      " |  send(self, location, params={}, method='post', additional_headers={})\n",
      " |      Method to send REST requests to the API\n",
      " |      \n",
      " |      :param location: eg. /subscribe\n",
      " |      :param params:  eg. {\"pairs\": \"USD/JPY\"}\n",
      " |      :param method: GET, POST, DELETE, PATCH\n",
      " |      :return: response Dict\n",
      " |  \n",
      " |  set_log_level(self, level)\n",
      " |      set the logging level of the specific instance.\n",
      " |      Levels are DEBUG, INFO, WARNING, ERROR, CRITICAL\n",
      " |      :param level: Defaults to ERROR if log level is undefined\n",
      " |      \n",
      " |      :return: None\n",
      " |  \n",
      " |  simple_oco(self, account_id, symbol, amount, is_in_pips, time_in_force, expiration, is_buy, rate, stop, trailing_step, trailing_stop_step, limit, at_market, order_type, is_buy2, rate2, stop2, trailing_step2, trailing_stop_step2, limit2)\n",
      " |      Create simple OCO\n",
      " |      \n",
      " |      :param account_id:\n",
      " |      :param symbol:\n",
      " |      :param amount:\n",
      " |      :param is_in_pips:\n",
      " |      :param time_in_force:\n",
      " |      :param expiration:\n",
      " |      :param is_buy:\n",
      " |      :param rate:\n",
      " |      :param stop:\n",
      " |      :param trailing_step:\n",
      " |      :param trailing_stop_step:\n",
      " |      :param limit:\n",
      " |      :param at_market:\n",
      " |      :param order_type:\n",
      " |      :param is_buy2:\n",
      " |      :param rate2:\n",
      " |      :param stop2:\n",
      " |      :param trailing_step2:\n",
      " |      :param trailing_stop_step2:\n",
      " |      :param limit2:\n",
      " |      :return: response Dict\n",
      " |  \n",
      " |  subscribe(self, items, handler=None)\n",
      " |      Subscribes to the updates of the data models.\n",
      " |      Update will be pushed to client via socketIO\n",
      " |      Model choices: 'Offer', 'OpenPosition', 'ClosedPosition',\n",
      " |      'Order',  'Account',  'Summary', 'LeverageProfile', 'Properties'\n",
      " |      \n",
      " |      :param item:\n",
      " |      :return: response Dict\n",
      " |  \n",
      " |  subscribe_symbol(self, instruments, handler=None)\n",
      " |      Subscribe to given instrument\n",
      " |      \n",
      " |      :param instruments:\n",
      " |      :return: response Dict\n",
      " |  \n",
      " |  unsubscribe(self, items)\n",
      " |      Unsubscribe from model\n",
      " |      [\"Offer\",\"Account\",\"Order\",\"OpenPosition\",\"Summary\",\"Properties\"]\n",
      " |      \n",
      " |      :param item:\n",
      " |      :return: response Dict\n",
      " |  \n",
      " |  unsubscribe_symbol(self, instruments, headers={'Transfer-Encoding': 'chunked'})\n",
      " |      Unsubscribe from instrument updates\n",
      " |      \n",
      " |      :param instruments:\n",
      " |      :return: response Dict\n",
      " |  \n",
      " |  ----------------------------------------------------------------------\n",
      " |  Data descriptors defined here:\n",
      " |  \n",
      " |  __dict__\n",
      " |      dictionary for instance variables (if defined)\n",
      " |  \n",
      " |  __weakref__\n",
      " |      list of weak references to the object (if defined)\n",
      " |  \n",
      " |  closed_positions\n",
      " |  \n",
      " |  leverage_profile\n",
      " |  \n",
      " |  offers\n",
      " |  \n",
      " |  open_positions\n",
      " |  \n",
      " |  orders\n",
      " |  \n",
      " |  properties\n",
      " |  \n",
      " |  summary\n",
      " |      Provides a summary snapshot ofthe account\n",
      "\n"
     ]
    }
   ],
   "source": [
    "help(trader)"
   ]
  }
 ],
 "metadata": {
  "kernelspec": {
   "display_name": "Python 3",
   "language": "python",
   "name": "python3"
  },
  "language_info": {
   "codemirror_mode": {
    "name": "ipython",
    "version": 3
   },
   "file_extension": ".py",
   "mimetype": "text/x-python",
   "name": "python",
   "nbconvert_exporter": "python",
   "pygments_lexer": "ipython3",
   "version": "3.6.0"
  }
 },
 "nbformat": 4,
 "nbformat_minor": 2
}
